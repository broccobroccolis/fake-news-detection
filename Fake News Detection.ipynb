{
  "nbformat": 4,
  "nbformat_minor": 0,
  "metadata": {
    "colab": {
      "name": "Group 6 Fake News Detection.ipynb",
      "provenance": [],
      "collapsed_sections": [
        "3WSPQqye7Gwj",
        "wf97EgiR9jwg",
        "CEEKTmso_oFB",
        "ZwlRQ8khKm8b",
        "2NHoAfvBKsej",
        "RqSrvsiZT0sr",
        "hFSMw5cecGjO",
        "0qbUlgZ7XBSf",
        "jI9iYABVeBvW"
      ],
      "toc_visible": true
    },
    "kernelspec": {
      "name": "python3",
      "display_name": "Python 3"
    },
    "language_info": {
      "name": "python"
    }
  },
  "cells": [
    {
      "cell_type": "markdown",
      "metadata": {
        "id": "3WSPQqye7Gwj"
      },
      "source": [
        "# **Baseline**\n",
        "LinearSVC: 0.9538242473555736,\n",
        "<br>MultinomialNB: 0.939924057499322,\n",
        "<br>XGB: 0.8927312177922431"
      ]
    },
    {
      "cell_type": "markdown",
      "metadata": {
        "id": "p7krLMoUtl8V"
      },
      "source": [
        "## Loading data"
      ]
    },
    {
      "cell_type": "code",
      "metadata": {
        "id": "2epUMpRrlodQ"
      },
      "source": [
        "import numpy as np\n",
        "import pandas as pd"
      ],
      "execution_count": null,
      "outputs": []
    },
    {
      "cell_type": "code",
      "metadata": {
        "colab": {
          "base_uri": "https://localhost:8080/"
        },
        "id": "q03j8bKCZjYW",
        "outputId": "f15d46c1-8b52-43e3-d488-6ed431ebd169"
      },
      "source": [
        "from google.colab import drive\n",
        "drive.mount('/content/drive')"
      ],
      "execution_count": null,
      "outputs": [
        {
          "output_type": "stream",
          "text": [
            "Mounted at /content/drive\n"
          ],
          "name": "stdout"
        }
      ]
    },
    {
      "cell_type": "code",
      "metadata": {
        "id": "GNpbskSzsJMs"
      },
      "source": [
        "fake = pd.read_csv('/content/drive/MyDrive/WIH2001 Lab/Fake.csv')\n",
        "true = pd.read_csv('/content/drive/MyDrive/WIH2001 Lab/True.csv')"
      ],
      "execution_count": null,
      "outputs": []
    },
    {
      "cell_type": "code",
      "metadata": {
        "colab": {
          "base_uri": "https://localhost:8080/"
        },
        "id": "Q9xkWh86sgLj",
        "outputId": "dee06022-94e3-4140-e4e7-f3f37f6776f5"
      },
      "source": [
        "print (fake)\n",
        "print (true)"
      ],
      "execution_count": null,
      "outputs": [
        {
          "output_type": "stream",
          "text": [
            "                                                   title  ...               date\n",
            "0       Donald Trump Sends Out Embarrassing New Year’...  ...  December 31, 2017\n",
            "1       Drunk Bragging Trump Staffer Started Russian ...  ...  December 31, 2017\n",
            "2       Sheriff David Clarke Becomes An Internet Joke...  ...  December 30, 2017\n",
            "3       Trump Is So Obsessed He Even Has Obama’s Name...  ...  December 29, 2017\n",
            "4       Pope Francis Just Called Out Donald Trump Dur...  ...  December 25, 2017\n",
            "...                                                  ...  ...                ...\n",
            "23476  McPain: John McCain Furious That Iran Treated ...  ...   January 16, 2016\n",
            "23477  JUSTICE? Yahoo Settles E-mail Privacy Class-ac...  ...   January 16, 2016\n",
            "23478  Sunnistan: US and Allied ‘Safe Zone’ Plan to T...  ...   January 15, 2016\n",
            "23479  How to Blow $700 Million: Al Jazeera America F...  ...   January 14, 2016\n",
            "23480  10 U.S. Navy Sailors Held by Iranian Military ...  ...   January 12, 2016\n",
            "\n",
            "[23481 rows x 4 columns]\n",
            "                                                   title  ...                date\n",
            "0      As U.S. budget fight looms, Republicans flip t...  ...  December 31, 2017 \n",
            "1      U.S. military to accept transgender recruits o...  ...  December 29, 2017 \n",
            "2      Senior U.S. Republican senator: 'Let Mr. Muell...  ...  December 31, 2017 \n",
            "3      FBI Russia probe helped by Australian diplomat...  ...  December 30, 2017 \n",
            "4      Trump wants Postal Service to charge 'much mor...  ...  December 29, 2017 \n",
            "...                                                  ...  ...                 ...\n",
            "21412  'Fully committed' NATO backs new U.S. approach...  ...    August 22, 2017 \n",
            "21413  LexisNexis withdrew two products from Chinese ...  ...    August 22, 2017 \n",
            "21414  Minsk cultural hub becomes haven from authorities  ...    August 22, 2017 \n",
            "21415  Vatican upbeat on possibility of Pope Francis ...  ...    August 22, 2017 \n",
            "21416  Indonesia to buy $1.14 billion worth of Russia...  ...    August 22, 2017 \n",
            "\n",
            "[21417 rows x 4 columns]\n"
          ],
          "name": "stdout"
        }
      ]
    },
    {
      "cell_type": "code",
      "metadata": {
        "colab": {
          "base_uri": "https://localhost:8080/",
          "height": 418
        },
        "id": "coHl32jZtYg2",
        "outputId": "41aeb5c5-a7aa-4098-9249-5243990b302f"
      },
      "source": [
        "fake['flag'] = 0\n",
        "fake"
      ],
      "execution_count": null,
      "outputs": [
        {
          "output_type": "execute_result",
          "data": {
            "text/html": [
              "<div>\n",
              "<style scoped>\n",
              "    .dataframe tbody tr th:only-of-type {\n",
              "        vertical-align: middle;\n",
              "    }\n",
              "\n",
              "    .dataframe tbody tr th {\n",
              "        vertical-align: top;\n",
              "    }\n",
              "\n",
              "    .dataframe thead th {\n",
              "        text-align: right;\n",
              "    }\n",
              "</style>\n",
              "<table border=\"1\" class=\"dataframe\">\n",
              "  <thead>\n",
              "    <tr style=\"text-align: right;\">\n",
              "      <th></th>\n",
              "      <th>title</th>\n",
              "      <th>text</th>\n",
              "      <th>subject</th>\n",
              "      <th>date</th>\n",
              "      <th>flag</th>\n",
              "    </tr>\n",
              "  </thead>\n",
              "  <tbody>\n",
              "    <tr>\n",
              "      <th>0</th>\n",
              "      <td>Donald Trump Sends Out Embarrassing New Year’...</td>\n",
              "      <td>Donald Trump just couldn t wish all Americans ...</td>\n",
              "      <td>News</td>\n",
              "      <td>December 31, 2017</td>\n",
              "      <td>0</td>\n",
              "    </tr>\n",
              "    <tr>\n",
              "      <th>1</th>\n",
              "      <td>Drunk Bragging Trump Staffer Started Russian ...</td>\n",
              "      <td>House Intelligence Committee Chairman Devin Nu...</td>\n",
              "      <td>News</td>\n",
              "      <td>December 31, 2017</td>\n",
              "      <td>0</td>\n",
              "    </tr>\n",
              "    <tr>\n",
              "      <th>2</th>\n",
              "      <td>Sheriff David Clarke Becomes An Internet Joke...</td>\n",
              "      <td>On Friday, it was revealed that former Milwauk...</td>\n",
              "      <td>News</td>\n",
              "      <td>December 30, 2017</td>\n",
              "      <td>0</td>\n",
              "    </tr>\n",
              "    <tr>\n",
              "      <th>3</th>\n",
              "      <td>Trump Is So Obsessed He Even Has Obama’s Name...</td>\n",
              "      <td>On Christmas day, Donald Trump announced that ...</td>\n",
              "      <td>News</td>\n",
              "      <td>December 29, 2017</td>\n",
              "      <td>0</td>\n",
              "    </tr>\n",
              "    <tr>\n",
              "      <th>4</th>\n",
              "      <td>Pope Francis Just Called Out Donald Trump Dur...</td>\n",
              "      <td>Pope Francis used his annual Christmas Day mes...</td>\n",
              "      <td>News</td>\n",
              "      <td>December 25, 2017</td>\n",
              "      <td>0</td>\n",
              "    </tr>\n",
              "    <tr>\n",
              "      <th>...</th>\n",
              "      <td>...</td>\n",
              "      <td>...</td>\n",
              "      <td>...</td>\n",
              "      <td>...</td>\n",
              "      <td>...</td>\n",
              "    </tr>\n",
              "    <tr>\n",
              "      <th>23476</th>\n",
              "      <td>McPain: John McCain Furious That Iran Treated ...</td>\n",
              "      <td>21st Century Wire says As 21WIRE reported earl...</td>\n",
              "      <td>Middle-east</td>\n",
              "      <td>January 16, 2016</td>\n",
              "      <td>0</td>\n",
              "    </tr>\n",
              "    <tr>\n",
              "      <th>23477</th>\n",
              "      <td>JUSTICE? Yahoo Settles E-mail Privacy Class-ac...</td>\n",
              "      <td>21st Century Wire says It s a familiar theme. ...</td>\n",
              "      <td>Middle-east</td>\n",
              "      <td>January 16, 2016</td>\n",
              "      <td>0</td>\n",
              "    </tr>\n",
              "    <tr>\n",
              "      <th>23478</th>\n",
              "      <td>Sunnistan: US and Allied ‘Safe Zone’ Plan to T...</td>\n",
              "      <td>Patrick Henningsen  21st Century WireRemember ...</td>\n",
              "      <td>Middle-east</td>\n",
              "      <td>January 15, 2016</td>\n",
              "      <td>0</td>\n",
              "    </tr>\n",
              "    <tr>\n",
              "      <th>23479</th>\n",
              "      <td>How to Blow $700 Million: Al Jazeera America F...</td>\n",
              "      <td>21st Century Wire says Al Jazeera America will...</td>\n",
              "      <td>Middle-east</td>\n",
              "      <td>January 14, 2016</td>\n",
              "      <td>0</td>\n",
              "    </tr>\n",
              "    <tr>\n",
              "      <th>23480</th>\n",
              "      <td>10 U.S. Navy Sailors Held by Iranian Military ...</td>\n",
              "      <td>21st Century Wire says As 21WIRE predicted in ...</td>\n",
              "      <td>Middle-east</td>\n",
              "      <td>January 12, 2016</td>\n",
              "      <td>0</td>\n",
              "    </tr>\n",
              "  </tbody>\n",
              "</table>\n",
              "<p>23481 rows × 5 columns</p>\n",
              "</div>"
            ],
            "text/plain": [
              "                                                   title  ... flag\n",
              "0       Donald Trump Sends Out Embarrassing New Year’...  ...    0\n",
              "1       Drunk Bragging Trump Staffer Started Russian ...  ...    0\n",
              "2       Sheriff David Clarke Becomes An Internet Joke...  ...    0\n",
              "3       Trump Is So Obsessed He Even Has Obama’s Name...  ...    0\n",
              "4       Pope Francis Just Called Out Donald Trump Dur...  ...    0\n",
              "...                                                  ...  ...  ...\n",
              "23476  McPain: John McCain Furious That Iran Treated ...  ...    0\n",
              "23477  JUSTICE? Yahoo Settles E-mail Privacy Class-ac...  ...    0\n",
              "23478  Sunnistan: US and Allied ‘Safe Zone’ Plan to T...  ...    0\n",
              "23479  How to Blow $700 Million: Al Jazeera America F...  ...    0\n",
              "23480  10 U.S. Navy Sailors Held by Iranian Military ...  ...    0\n",
              "\n",
              "[23481 rows x 5 columns]"
            ]
          },
          "metadata": {
            "tags": []
          },
          "execution_count": 27
        }
      ]
    },
    {
      "cell_type": "code",
      "metadata": {
        "colab": {
          "base_uri": "https://localhost:8080/",
          "height": 418
        },
        "id": "rC915WXWtdnF",
        "outputId": "b902bad7-a7ec-4a6f-e887-dbe9ea23ad63"
      },
      "source": [
        "true['flag'] = 1\n",
        "true"
      ],
      "execution_count": null,
      "outputs": [
        {
          "output_type": "execute_result",
          "data": {
            "text/html": [
              "<div>\n",
              "<style scoped>\n",
              "    .dataframe tbody tr th:only-of-type {\n",
              "        vertical-align: middle;\n",
              "    }\n",
              "\n",
              "    .dataframe tbody tr th {\n",
              "        vertical-align: top;\n",
              "    }\n",
              "\n",
              "    .dataframe thead th {\n",
              "        text-align: right;\n",
              "    }\n",
              "</style>\n",
              "<table border=\"1\" class=\"dataframe\">\n",
              "  <thead>\n",
              "    <tr style=\"text-align: right;\">\n",
              "      <th></th>\n",
              "      <th>title</th>\n",
              "      <th>text</th>\n",
              "      <th>subject</th>\n",
              "      <th>date</th>\n",
              "      <th>flag</th>\n",
              "    </tr>\n",
              "  </thead>\n",
              "  <tbody>\n",
              "    <tr>\n",
              "      <th>0</th>\n",
              "      <td>As U.S. budget fight looms, Republicans flip t...</td>\n",
              "      <td>WASHINGTON (Reuters) - The head of a conservat...</td>\n",
              "      <td>politicsNews</td>\n",
              "      <td>December 31, 2017</td>\n",
              "      <td>1</td>\n",
              "    </tr>\n",
              "    <tr>\n",
              "      <th>1</th>\n",
              "      <td>U.S. military to accept transgender recruits o...</td>\n",
              "      <td>WASHINGTON (Reuters) - Transgender people will...</td>\n",
              "      <td>politicsNews</td>\n",
              "      <td>December 29, 2017</td>\n",
              "      <td>1</td>\n",
              "    </tr>\n",
              "    <tr>\n",
              "      <th>2</th>\n",
              "      <td>Senior U.S. Republican senator: 'Let Mr. Muell...</td>\n",
              "      <td>WASHINGTON (Reuters) - The special counsel inv...</td>\n",
              "      <td>politicsNews</td>\n",
              "      <td>December 31, 2017</td>\n",
              "      <td>1</td>\n",
              "    </tr>\n",
              "    <tr>\n",
              "      <th>3</th>\n",
              "      <td>FBI Russia probe helped by Australian diplomat...</td>\n",
              "      <td>WASHINGTON (Reuters) - Trump campaign adviser ...</td>\n",
              "      <td>politicsNews</td>\n",
              "      <td>December 30, 2017</td>\n",
              "      <td>1</td>\n",
              "    </tr>\n",
              "    <tr>\n",
              "      <th>4</th>\n",
              "      <td>Trump wants Postal Service to charge 'much mor...</td>\n",
              "      <td>SEATTLE/WASHINGTON (Reuters) - President Donal...</td>\n",
              "      <td>politicsNews</td>\n",
              "      <td>December 29, 2017</td>\n",
              "      <td>1</td>\n",
              "    </tr>\n",
              "    <tr>\n",
              "      <th>...</th>\n",
              "      <td>...</td>\n",
              "      <td>...</td>\n",
              "      <td>...</td>\n",
              "      <td>...</td>\n",
              "      <td>...</td>\n",
              "    </tr>\n",
              "    <tr>\n",
              "      <th>21412</th>\n",
              "      <td>'Fully committed' NATO backs new U.S. approach...</td>\n",
              "      <td>BRUSSELS (Reuters) - NATO allies on Tuesday we...</td>\n",
              "      <td>worldnews</td>\n",
              "      <td>August 22, 2017</td>\n",
              "      <td>1</td>\n",
              "    </tr>\n",
              "    <tr>\n",
              "      <th>21413</th>\n",
              "      <td>LexisNexis withdrew two products from Chinese ...</td>\n",
              "      <td>LONDON (Reuters) - LexisNexis, a provider of l...</td>\n",
              "      <td>worldnews</td>\n",
              "      <td>August 22, 2017</td>\n",
              "      <td>1</td>\n",
              "    </tr>\n",
              "    <tr>\n",
              "      <th>21414</th>\n",
              "      <td>Minsk cultural hub becomes haven from authorities</td>\n",
              "      <td>MINSK (Reuters) - In the shadow of disused Sov...</td>\n",
              "      <td>worldnews</td>\n",
              "      <td>August 22, 2017</td>\n",
              "      <td>1</td>\n",
              "    </tr>\n",
              "    <tr>\n",
              "      <th>21415</th>\n",
              "      <td>Vatican upbeat on possibility of Pope Francis ...</td>\n",
              "      <td>MOSCOW (Reuters) - Vatican Secretary of State ...</td>\n",
              "      <td>worldnews</td>\n",
              "      <td>August 22, 2017</td>\n",
              "      <td>1</td>\n",
              "    </tr>\n",
              "    <tr>\n",
              "      <th>21416</th>\n",
              "      <td>Indonesia to buy $1.14 billion worth of Russia...</td>\n",
              "      <td>JAKARTA (Reuters) - Indonesia will buy 11 Sukh...</td>\n",
              "      <td>worldnews</td>\n",
              "      <td>August 22, 2017</td>\n",
              "      <td>1</td>\n",
              "    </tr>\n",
              "  </tbody>\n",
              "</table>\n",
              "<p>21417 rows × 5 columns</p>\n",
              "</div>"
            ],
            "text/plain": [
              "                                                   title  ... flag\n",
              "0      As U.S. budget fight looms, Republicans flip t...  ...    1\n",
              "1      U.S. military to accept transgender recruits o...  ...    1\n",
              "2      Senior U.S. Republican senator: 'Let Mr. Muell...  ...    1\n",
              "3      FBI Russia probe helped by Australian diplomat...  ...    1\n",
              "4      Trump wants Postal Service to charge 'much mor...  ...    1\n",
              "...                                                  ...  ...  ...\n",
              "21412  'Fully committed' NATO backs new U.S. approach...  ...    1\n",
              "21413  LexisNexis withdrew two products from Chinese ...  ...    1\n",
              "21414  Minsk cultural hub becomes haven from authorities  ...    1\n",
              "21415  Vatican upbeat on possibility of Pope Francis ...  ...    1\n",
              "21416  Indonesia to buy $1.14 billion worth of Russia...  ...    1\n",
              "\n",
              "[21417 rows x 5 columns]"
            ]
          },
          "metadata": {
            "tags": []
          },
          "execution_count": 28
        }
      ]
    },
    {
      "cell_type": "code",
      "metadata": {
        "id": "QgS2RdaPtin_"
      },
      "source": [
        "df = pd.DataFrame()\n",
        "df = true.append(fake)"
      ],
      "execution_count": null,
      "outputs": []
    },
    {
      "cell_type": "markdown",
      "metadata": {
        "id": "2yfi5Q6Ptvk0"
      },
      "source": [
        "## EDA + Data cleaning"
      ]
    },
    {
      "cell_type": "markdown",
      "metadata": {
        "id": "st0-_XQXuDdq"
      },
      "source": [
        "Checking datatypes."
      ]
    },
    {
      "cell_type": "code",
      "metadata": {
        "colab": {
          "base_uri": "https://localhost:8080/"
        },
        "id": "Z_BAvkbqt3zP",
        "outputId": "88bad5a9-4f2c-4aee-979b-8aa6c22b30a1"
      },
      "source": [
        "df.info()"
      ],
      "execution_count": null,
      "outputs": [
        {
          "output_type": "stream",
          "text": [
            "<class 'pandas.core.frame.DataFrame'>\n",
            "Int64Index: 44898 entries, 0 to 23480\n",
            "Data columns (total 5 columns):\n",
            " #   Column   Non-Null Count  Dtype \n",
            "---  ------   --------------  ----- \n",
            " 0   title    44898 non-null  object\n",
            " 1   text     44898 non-null  object\n",
            " 2   subject  44898 non-null  object\n",
            " 3   date     44898 non-null  object\n",
            " 4   flag     44898 non-null  int64 \n",
            "dtypes: int64(1), object(4)\n",
            "memory usage: 2.1+ MB\n"
          ],
          "name": "stdout"
        }
      ]
    },
    {
      "cell_type": "markdown",
      "metadata": {
        "id": "ZLnIO-7pdw6f"
      },
      "source": [
        "### Feature Engineering"
      ]
    },
    {
      "cell_type": "markdown",
      "metadata": {
        "id": "ny2fs8iCt_Ie"
      },
      "source": [
        "Removing the duplicates and preventing problems with indexing."
      ]
    },
    {
      "cell_type": "code",
      "metadata": {
        "id": "3P2Zo0Eyt81f"
      },
      "source": [
        "df = df.drop_duplicates()\n",
        "df = df.reset_index(drop=True)"
      ],
      "execution_count": null,
      "outputs": []
    },
    {
      "cell_type": "markdown",
      "metadata": {
        "id": "kb3uVFMEuKUx"
      },
      "source": [
        "We can see that the date format is not the one we need. I will apply the appropriate date format for future purposes."
      ]
    },
    {
      "cell_type": "code",
      "metadata": {
        "id": "-DvnOILbuKEy"
      },
      "source": [
        "df['date'] = df['date'].replace(['19-Feb-18'],'February 19, 2018')\n",
        "df['date'] = df['date'].replace(['18-Feb-18'],'February 18, 2018')\n",
        "df['date'] = df['date'].replace(['17-Feb-18'],'February 17, 2018')\n",
        "df['date'] = df['date'].replace(['16-Feb-18'],'February 16, 2018')\n",
        "df['date'] = df['date'].replace(['15-Feb-18'],'February 15, 2018')\n",
        "df['date'] = df['date'].replace(['14-Feb-18'],'February 14, 2018')\n",
        "df['date'] = df['date'].replace(['13-Feb-18'],'February 13, 2018')\n",
        "\n",
        "df['date'] = df['date'].str.replace('Dec ', 'December ')\n",
        "df['date'] = df['date'].str.replace('Nov ', 'November ')\n",
        "df['date'] = df['date'].str.replace('Oct ', 'October ')\n",
        "df['date'] = df['date'].str.replace('Sep ', 'September ')\n",
        "df['date'] = df['date'].str.replace('Aug ', 'August ')\n",
        "df['date'] = df['date'].str.replace('Jul ', 'July ')\n",
        "df['date'] = df['date'].str.replace('Jun ', 'June ')\n",
        "df['date'] = df['date'].str.replace('Apr ', 'April ')\n",
        "df['date'] = df['date'].str.replace('Mar ', 'March ')\n",
        "df['date'] = df['date'].str.replace('Feb ', 'February ')\n",
        "df['date'] = df['date'].str.replace('Jan ', 'January ')"
      ],
      "execution_count": null,
      "outputs": []
    },
    {
      "cell_type": "code",
      "metadata": {
        "id": "2EwxFpOeuTpa"
      },
      "source": [
        "df['date'] = df['date'].str.replace(' ', '')"
      ],
      "execution_count": null,
      "outputs": []
    },
    {
      "cell_type": "code",
      "metadata": {
        "colab": {
          "base_uri": "https://localhost:8080/"
        },
        "id": "BzEjD2q8uWmb",
        "outputId": "7cd13d38-e2af-4330-e9ae-68dc92338674"
      },
      "source": [
        "for i, val in enumerate(df['date']):\n",
        "    df['date'].iloc[i] = pd.to_datetime(df['date'].iloc[i], format='%B%d,%Y', errors='coerce') \n",
        "    # by setting the parameter to \"coerce\", we will set unappropriate values to NaT (null)"
      ],
      "execution_count": null,
      "outputs": [
        {
          "output_type": "stream",
          "text": [
            "/usr/local/lib/python3.7/dist-packages/pandas/core/indexing.py:670: SettingWithCopyWarning: \n",
            "A value is trying to be set on a copy of a slice from a DataFrame\n",
            "\n",
            "See the caveats in the documentation: https://pandas.pydata.org/pandas-docs/stable/user_guide/indexing.html#returning-a-view-versus-a-copy\n",
            "  iloc._setitem_with_indexer(indexer, value)\n"
          ],
          "name": "stderr"
        }
      ]
    },
    {
      "cell_type": "code",
      "metadata": {
        "colab": {
          "base_uri": "https://localhost:8080/"
        },
        "id": "wyQbTV3GugJT",
        "outputId": "ac56a7ba-3cf1-4434-cc6e-b177fd1677de"
      },
      "source": [
        "df['date'] = df['date'].astype('datetime64[ns]')\n",
        "df.info()"
      ],
      "execution_count": null,
      "outputs": [
        {
          "output_type": "stream",
          "text": [
            "<class 'pandas.core.frame.DataFrame'>\n",
            "RangeIndex: 44689 entries, 0 to 44688\n",
            "Data columns (total 5 columns):\n",
            " #   Column   Non-Null Count  Dtype         \n",
            "---  ------   --------------  -----         \n",
            " 0   title    44689 non-null  object        \n",
            " 1   text     44689 non-null  object        \n",
            " 2   subject  44689 non-null  object        \n",
            " 3   date     44679 non-null  datetime64[ns]\n",
            " 4   flag     44689 non-null  int64         \n",
            "dtypes: datetime64[ns](1), int64(1), object(3)\n",
            "memory usage: 1.7+ MB\n"
          ],
          "name": "stdout"
        }
      ]
    },
    {
      "cell_type": "code",
      "metadata": {
        "id": "-A9gZiuzukcb"
      },
      "source": [
        "import datetime as dt\n",
        "df['year'] = pd.to_datetime(df['date']).dt.to_period('Y')\n",
        "df['month'] = pd.to_datetime(df['date']).dt.to_period('M')\n",
        "\n",
        "df['month'] = df['month'].astype(str)"
      ],
      "execution_count": null,
      "outputs": []
    },
    {
      "cell_type": "markdown",
      "metadata": {
        "id": "9_Z4OwFyunpJ"
      },
      "source": [
        "Next we will try to elicit insights from non-text features to get to know if they will help us boost the Text Classifier."
      ]
    },
    {
      "cell_type": "markdown",
      "metadata": {
        "id": "An002KRluooS"
      },
      "source": [
        "### Fake news dynamics"
      ]
    },
    {
      "cell_type": "code",
      "metadata": {
        "id": "zdeDP8tduu3E"
      },
      "source": [
        "sub = df[['month', 'flag']]\n",
        "sub = sub.dropna()\n",
        "sub = sub.groupby(['month'])['flag'].sum()"
      ],
      "execution_count": null,
      "outputs": []
    },
    {
      "cell_type": "code",
      "metadata": {
        "id": "zZEiMX4Kuwm5"
      },
      "source": [
        "sub = sub.drop('NaT')"
      ],
      "execution_count": null,
      "outputs": []
    },
    {
      "cell_type": "code",
      "metadata": {
        "colab": {
          "base_uri": "https://localhost:8080/",
          "height": 358
        },
        "id": "ohKbaSeAuyi6",
        "outputId": "f8cf3c2d-3018-47f6-8938-cfe56e09e686"
      },
      "source": [
        "import matplotlib.pyplot as plt\n",
        "\n",
        "plt.suptitle('Dynamics of fake news')\n",
        "plt.xticks(rotation=90)\n",
        "plt.ylabel('Number of fake news')\n",
        "plt.xlabel('Month-Year')\n",
        "plt.plot(sub.index, sub.values, linewidth=2, color='green')"
      ],
      "execution_count": null,
      "outputs": [
        {
          "output_type": "execute_result",
          "data": {
            "text/plain": [
              "[<matplotlib.lines.Line2D at 0x7f275625d6d0>]"
            ]
          },
          "metadata": {
            "tags": []
          },
          "execution_count": 39
        },
        {
          "output_type": "display_data",
          "data": {
            "image/png": "[encoded data removed]",
            "text/plain": [
              "<Figure size 432x288 with 1 Axes>"
            ]
          },
          "metadata": {
            "tags": [],
            "needs_background": "light"
          }
        }
      ]
    },
    {
      "cell_type": "markdown",
      "metadata": {
        "id": "_RNO3nLMu2MC"
      },
      "source": [
        "What a spike in the dynamics of fake news in late 2017!"
      ]
    },
    {
      "cell_type": "markdown",
      "metadata": {
        "id": "JizzbvUtu8Db"
      },
      "source": [
        "### Subject distribution"
      ]
    },
    {
      "cell_type": "code",
      "metadata": {
        "id": "MGMG-0okvErb"
      },
      "source": [
        "sub2 = df[['subject', 'flag']]\n",
        "sub2 = sub2.dropna()\n",
        "sub2 = sub2.groupby(['subject'])['flag'].sum()"
      ],
      "execution_count": null,
      "outputs": []
    },
    {
      "cell_type": "code",
      "metadata": {
        "colab": {
          "base_uri": "https://localhost:8080/",
          "height": 408
        },
        "id": "80BT380TvIGh",
        "outputId": "9b9958ab-3099-4bfb-a49c-7d65a221b5a8"
      },
      "source": [
        "plt.suptitle('Fake news among different categories')\n",
        "plt.xticks(rotation=90)\n",
        "plt.ylabel('Number of fake news')\n",
        "plt.xlabel('Category')\n",
        "\n",
        "plt.bar(sub2.index, height=sub2.values, color='green')\n",
        "#ax1.plot(x, y)\n",
        "#ax2.plot(x, -y)"
      ],
      "execution_count": null,
      "outputs": [
        {
          "output_type": "execute_result",
          "data": {
            "text/plain": [
              "<BarContainer object of 8 artists>"
            ]
          },
          "metadata": {
            "tags": []
          },
          "execution_count": 41
        },
        {
          "output_type": "display_data",
          "data": {
            "image/png": "[encoded data removed]",
            "text/plain": [
              "<Figure size 432x288 with 1 Axes>"
            ]
          },
          "metadata": {
            "tags": [],
            "needs_background": "light"
          }
        }
      ]
    },
    {
      "cell_type": "markdown",
      "metadata": {
        "id": "Gb37aYLqvKj-"
      },
      "source": [
        "As we have discovered, such features as\n",
        "\n",
        "*   subject\n",
        "*   date\n",
        "\n",
        "might be also crucial for the algorithm to decide whether the piece of news is fake or real. We will try to include them in the model."
      ]
    },
    {
      "cell_type": "code",
      "metadata": {
        "id": "WV7GPO_fvZyH"
      },
      "source": [
        "nlp = df"
      ],
      "execution_count": null,
      "outputs": []
    },
    {
      "cell_type": "markdown",
      "metadata": {
        "id": "oSM7hjC0vmiI"
      },
      "source": [
        "### Word Cloud visualization"
      ]
    },
    {
      "cell_type": "code",
      "metadata": {
        "id": "s7j1HCBpvrTn"
      },
      "source": [
        "from sklearn.feature_extraction.text import TfidfVectorizer\n",
        "\n",
        "corpus = nlp[nlp['flag'] == 1]['title'].iloc[0:500] # We will take a slice of fake news, to see what vocabulary there looks like\n",
        "tfidf1 = TfidfVectorizer()\n",
        "vecs = tfidf1.fit_transform(corpus)\n",
        "\n",
        "feature_names = tfidf1.get_feature_names()\n",
        "dense = vecs.todense()\n",
        "list_words = dense.tolist()\n",
        "df_words = pd.DataFrame(list_words, columns=feature_names)"
      ],
      "execution_count": null,
      "outputs": []
    },
    {
      "cell_type": "code",
      "metadata": {
        "id": "3j72xOCXvx19"
      },
      "source": [
        "from wordcloud import WordCloud, STOPWORDS, ImageColorGenerator\n",
        "df_words.T.sum(axis=1)\n",
        "Cloud = WordCloud(background_color=\"white\", max_words=100).generate_from_frequencies(df_words.T.sum(axis=1))"
      ],
      "execution_count": null,
      "outputs": []
    },
    {
      "cell_type": "code",
      "metadata": {
        "colab": {
          "base_uri": "https://localhost:8080/",
          "height": 340
        },
        "id": "RbfVeyCFvz4X",
        "outputId": "9b4592dd-127e-4df6-9b8e-d911a39d655a"
      },
      "source": [
        "import matplotlib.pyplot as plt\n",
        "plt.figure(figsize=(12,5))\n",
        "plt.imshow(Cloud, interpolation='bilinear')"
      ],
      "execution_count": null,
      "outputs": [
        {
          "output_type": "execute_result",
          "data": {
            "text/plain": [
              "<matplotlib.image.AxesImage at 0x7f2744998890>"
            ]
          },
          "metadata": {
            "tags": []
          },
          "execution_count": 45
        },
        {
          "output_type": "display_data",
          "data": {
            "image/png": "[encoded data removed]",
            "text/plain": [
              "<Figure size 864x360 with 1 Axes>"
            ]
          },
          "metadata": {
            "tags": [],
            "needs_background": "light"
          }
        }
      ]
    },
    {
      "cell_type": "markdown",
      "metadata": {
        "id": "1lZXH03yv54o"
      },
      "source": [
        "### Tfidf-vectorizing"
      ]
    },
    {
      "cell_type": "markdown",
      "metadata": {
        "id": "Op23Tf70wdw6"
      },
      "source": [
        "First, I will tokenize words to pass it on to the SnowballStemmer method, which will take out stems from words."
      ]
    },
    {
      "cell_type": "code",
      "metadata": {
        "colab": {
          "base_uri": "https://localhost:8080/"
        },
        "id": "JgG9xMthwg8m",
        "outputId": "9c32f3c5-839a-4c34-9079-25948ca7199e"
      },
      "source": [
        "import nltk\n",
        "nltk.download('punkt')\n",
        "from nltk import word_tokenize\n",
        "\n",
        "nlp['title'] = nlp['title'].apply(lambda x: word_tokenize(str(x)))"
      ],
      "execution_count": null,
      "outputs": [
        {
          "output_type": "stream",
          "text": [
            "[nltk_data] Downloading package punkt to /root/nltk_data...\n",
            "[nltk_data]   Unzipping tokenizers/punkt.zip.\n"
          ],
          "name": "stdout"
        }
      ]
    },
    {
      "cell_type": "markdown",
      "metadata": {
        "id": "ZRmP-1aUwkJc"
      },
      "source": [
        "An important step in every NLP-task is to get the roots of words in order not to distract the model by 'different' words."
      ]
    },
    {
      "cell_type": "code",
      "metadata": {
        "id": "pVff22ZYwmvW"
      },
      "source": [
        "from nltk.stem import SnowballStemmer\n",
        "\n",
        "snowball = SnowballStemmer(language='english')\n",
        "nlp['title'] = nlp['title'].apply(lambda x: [snowball.stem(y) for y in x])"
      ],
      "execution_count": null,
      "outputs": []
    },
    {
      "cell_type": "code",
      "metadata": {
        "id": "T6aWoAZ-wo8i"
      },
      "source": [
        "nlp['title'] = nlp['title'].apply(lambda x: ' '.join(x))"
      ],
      "execution_count": null,
      "outputs": []
    },
    {
      "cell_type": "markdown",
      "metadata": {
        "id": "9WuVMmlpwyI3"
      },
      "source": [
        "And finally TfidfVectorizing. You can also take CountVectorizer, but I prefer Tfidf as it has masses of advantages."
      ]
    },
    {
      "cell_type": "code",
      "metadata": {
        "id": "6E2P9OA7w0T9"
      },
      "source": [
        "from sklearn.feature_extraction.text import TfidfVectorizer\n",
        "\n",
        "tfidf = TfidfVectorizer()\n",
        "X_text = tfidf.fit_transform(nlp['title'])"
      ],
      "execution_count": null,
      "outputs": []
    },
    {
      "cell_type": "markdown",
      "metadata": {
        "id": "h3ET0lTXqnnO"
      },
      "source": [
        "## Data Splitting\n",
        "\n",
        "**'flag'** will be our label.\n",
        "<br> The other attributes will be our features.\n",
        "<br> 67% of the data will be used as training set, the other 33% wil be used as testing set."
      ]
    },
    {
      "cell_type": "code",
      "metadata": {
        "id": "PUFiDq4ow2Ep"
      },
      "source": [
        "from sklearn.model_selection import train_test_split\n",
        "X_train, X_test, y_train, y_test = train_test_split(X_text, nlp['flag'], test_size=0.33, random_state=1)"
      ],
      "execution_count": null,
      "outputs": []
    },
    {
      "cell_type": "markdown",
      "metadata": {
        "id": "s35Ojswqw2zG"
      },
      "source": [
        "## Model Building"
      ]
    },
    {
      "cell_type": "markdown",
      "metadata": {
        "id": "Q_YDmMOVw-ez"
      },
      "source": [
        "I will use several traditional approaches (which are known as efficient for text classification) to solve the classification task, such as:\n",
        "\n",
        "*   SVM\n",
        "*   Naive Bayes\n",
        "*   XGBoost\n"
      ]
    },
    {
      "cell_type": "code",
      "metadata": {
        "id": "ku3xXXyLxRkJ"
      },
      "source": [
        "scores = {}"
      ],
      "execution_count": null,
      "outputs": []
    },
    {
      "cell_type": "markdown",
      "metadata": {
        "id": "yi2FEOAsxNXg"
      },
      "source": [
        "### Linear SVC"
      ]
    },
    {
      "cell_type": "code",
      "metadata": {
        "colab": {
          "base_uri": "https://localhost:8080/"
        },
        "id": "-JhPsAVAxTjP",
        "outputId": "a7e29dd6-6e92-4157-8362-dada3749afbd"
      },
      "source": [
        "from sklearn.svm import LinearSVC\n",
        "from sklearn.model_selection import cross_val_score\n",
        "from sklearn.metrics import accuracy_score, classification_report\n",
        "\n",
        "clf = LinearSVC(max_iter=100, C=5.0)\n",
        "clf.fit(X_train, y_train)\n",
        "\n",
        "y_pred_SVM = clf.predict(X_test)\n",
        "print (classification_report(y_test,y_pred_SVM))\n",
        "print (cross_val_score(clf, X_text, nlp['flag'], cv=3))\n",
        "print (accuracy_score(y_pred_SVM, y_test))\n",
        "\n",
        "scores['LinearSVC'] = accuracy_score(y_pred_SVM, y_test)"
      ],
      "execution_count": null,
      "outputs": [
        {
          "output_type": "stream",
          "text": [
            "/usr/local/lib/python3.7/dist-packages/sklearn/svm/_base.py:947: ConvergenceWarning: Liblinear failed to converge, increase the number of iterations.\n",
            "  \"the number of iterations.\", ConvergenceWarning)\n",
            "/usr/local/lib/python3.7/dist-packages/sklearn/svm/_base.py:947: ConvergenceWarning: Liblinear failed to converge, increase the number of iterations.\n",
            "  \"the number of iterations.\", ConvergenceWarning)\n"
          ],
          "name": "stderr"
        },
        {
          "output_type": "stream",
          "text": [
            "              precision    recall  f1-score   support\n",
            "\n",
            "           0       0.96      0.95      0.96      7687\n",
            "           1       0.95      0.95      0.95      7061\n",
            "\n",
            "    accuracy                           0.95     14748\n",
            "   macro avg       0.95      0.95      0.95     14748\n",
            "weighted avg       0.95      0.95      0.95     14748\n",
            "\n",
            "[0.89883869 0.92702739 0.92158969]\n",
            "0.9538920531597505\n"
          ],
          "name": "stdout"
        }
      ]
    },
    {
      "cell_type": "markdown",
      "metadata": {
        "id": "u_28TvlPxXrD"
      },
      "source": [
        "### Naive Bayes"
      ]
    },
    {
      "cell_type": "code",
      "metadata": {
        "colab": {
          "base_uri": "https://localhost:8080/"
        },
        "id": "Xv5FMs65xWhl",
        "outputId": "76295b20-6c4c-4c69-e681-26dbd6727ab2"
      },
      "source": [
        "from sklearn.naive_bayes import MultinomialNB\n",
        "\n",
        "clf2 = MultinomialNB(alpha=1.0)\n",
        "clf2.fit(X_train, y_train)\n",
        "\n",
        "y_pred_MNB = clf2.predict(X_test)\n",
        "print (classification_report(y_test,y_pred_MNB))\n",
        "print(cross_val_score(clf2, X_text, nlp['flag'], cv=3))\n",
        "print(accuracy_score(y_pred_MNB, y_test))\n",
        "\n",
        "scores['MultinomialNB'] = accuracy_score(y_pred_MNB, y_test)"
      ],
      "execution_count": null,
      "outputs": [
        {
          "output_type": "stream",
          "text": [
            "              precision    recall  f1-score   support\n",
            "\n",
            "           0       0.93      0.96      0.94      7687\n",
            "           1       0.96      0.92      0.94      7061\n",
            "\n",
            "    accuracy                           0.94     14748\n",
            "   macro avg       0.94      0.94      0.94     14748\n",
            "weighted avg       0.94      0.94      0.94     14748\n",
            "\n",
            "[0.88957508 0.89406552 0.92883996]\n",
            "0.939924057499322\n"
          ],
          "name": "stdout"
        }
      ]
    },
    {
      "cell_type": "markdown",
      "metadata": {
        "id": "R_aJJM8zxisf"
      },
      "source": [
        "### XGBoost"
      ]
    },
    {
      "cell_type": "code",
      "metadata": {
        "colab": {
          "base_uri": "https://localhost:8080/"
        },
        "id": "S9e7ZWo2xlRL",
        "outputId": "adc39a66-a7b7-466e-feec-e64a8a5a9707"
      },
      "source": [
        "from xgboost import XGBClassifier\n",
        "\n",
        "clf3 = XGBClassifier(eval_metric='rmse', use_label_encoder=False, )\n",
        "clf3.fit(X_train, y_train)\n",
        "\n",
        "y_pred_XGB = clf3.predict(X_test)\n",
        "print (classification_report(y_test,y_pred_XGB))\n",
        "print(cross_val_score(clf3, X_text, nlp['flag'], cv=3))\n",
        "print(accuracy_score(y_pred_XGB, y_test))\n",
        "\n",
        "scores['XGB'] = accuracy_score(y_pred_XGB, y_test)"
      ],
      "execution_count": null,
      "outputs": [
        {
          "output_type": "stream",
          "text": [
            "              precision    recall  f1-score   support\n",
            "\n",
            "           0       0.95      0.84      0.89      7687\n",
            "           1       0.85      0.95      0.89      7061\n",
            "\n",
            "    accuracy                           0.89     14748\n",
            "   macro avg       0.90      0.89      0.89     14748\n",
            "weighted avg       0.90      0.89      0.89     14748\n",
            "\n",
            "[0.82694502 0.90077873 0.86399033]\n",
            "0.8927312177922431\n"
          ],
          "name": "stdout"
        }
      ]
    },
    {
      "cell_type": "code",
      "metadata": {
        "id": "HFitg6ZIe0nL",
        "colab": {
          "base_uri": "https://localhost:8080/"
        },
        "outputId": "64352d2b-5dee-43a3-81fa-38de9725195e"
      },
      "source": [
        "scores"
      ],
      "execution_count": null,
      "outputs": [
        {
          "output_type": "execute_result",
          "data": {
            "text/plain": [
              "{'LinearSVC': 0.9538920531597505,\n",
              " 'MultinomialNB': 0.939924057499322,\n",
              " 'XGB': 0.8927312177922431}"
            ]
          },
          "metadata": {
            "tags": []
          },
          "execution_count": 55
        }
      ]
    },
    {
      "cell_type": "markdown",
      "metadata": {
        "id": "UTrjOXQ19UtV"
      },
      "source": [
        "# **After changes**"
      ]
    },
    {
      "cell_type": "markdown",
      "metadata": {
        "id": "wf97EgiR9jwg"
      },
      "source": [
        "## Loading data"
      ]
    },
    {
      "cell_type": "code",
      "metadata": {
        "id": "tbvPBy4C9qlC"
      },
      "source": [
        "fake2 = pd.read_csv('/content/drive/MyDrive/WIH2001 Lab/Fake.csv')\n",
        "true2 = pd.read_csv('/content/drive/MyDrive/WIH2001 Lab/True.csv')"
      ],
      "execution_count": null,
      "outputs": []
    },
    {
      "cell_type": "code",
      "metadata": {
        "colab": {
          "base_uri": "https://localhost:8080/",
          "height": 418
        },
        "id": "36Oy_uLF-VLb",
        "outputId": "44711c7e-0e8d-48dc-9b01-0390fcddbd5c"
      },
      "source": [
        "fake2['flag'] = 0\n",
        "fake2"
      ],
      "execution_count": null,
      "outputs": [
        {
          "output_type": "execute_result",
          "data": {
            "text/html": [
              "<div>\n",
              "<style scoped>\n",
              "    .dataframe tbody tr th:only-of-type {\n",
              "        vertical-align: middle;\n",
              "    }\n",
              "\n",
              "    .dataframe tbody tr th {\n",
              "        vertical-align: top;\n",
              "    }\n",
              "\n",
              "    .dataframe thead th {\n",
              "        text-align: right;\n",
              "    }\n",
              "</style>\n",
              "<table border=\"1\" class=\"dataframe\">\n",
              "  <thead>\n",
              "    <tr style=\"text-align: right;\">\n",
              "      <th></th>\n",
              "      <th>title</th>\n",
              "      <th>text</th>\n",
              "      <th>subject</th>\n",
              "      <th>date</th>\n",
              "      <th>flag</th>\n",
              "    </tr>\n",
              "  </thead>\n",
              "  <tbody>\n",
              "    <tr>\n",
              "      <th>0</th>\n",
              "      <td>Donald Trump Sends Out Embarrassing New Year’...</td>\n",
              "      <td>Donald Trump just couldn t wish all Americans ...</td>\n",
              "      <td>News</td>\n",
              "      <td>December 31, 2017</td>\n",
              "      <td>0</td>\n",
              "    </tr>\n",
              "    <tr>\n",
              "      <th>1</th>\n",
              "      <td>Drunk Bragging Trump Staffer Started Russian ...</td>\n",
              "      <td>House Intelligence Committee Chairman Devin Nu...</td>\n",
              "      <td>News</td>\n",
              "      <td>December 31, 2017</td>\n",
              "      <td>0</td>\n",
              "    </tr>\n",
              "    <tr>\n",
              "      <th>2</th>\n",
              "      <td>Sheriff David Clarke Becomes An Internet Joke...</td>\n",
              "      <td>On Friday, it was revealed that former Milwauk...</td>\n",
              "      <td>News</td>\n",
              "      <td>December 30, 2017</td>\n",
              "      <td>0</td>\n",
              "    </tr>\n",
              "    <tr>\n",
              "      <th>3</th>\n",
              "      <td>Trump Is So Obsessed He Even Has Obama’s Name...</td>\n",
              "      <td>On Christmas day, Donald Trump announced that ...</td>\n",
              "      <td>News</td>\n",
              "      <td>December 29, 2017</td>\n",
              "      <td>0</td>\n",
              "    </tr>\n",
              "    <tr>\n",
              "      <th>4</th>\n",
              "      <td>Pope Francis Just Called Out Donald Trump Dur...</td>\n",
              "      <td>Pope Francis used his annual Christmas Day mes...</td>\n",
              "      <td>News</td>\n",
              "      <td>December 25, 2017</td>\n",
              "      <td>0</td>\n",
              "    </tr>\n",
              "    <tr>\n",
              "      <th>...</th>\n",
              "      <td>...</td>\n",
              "      <td>...</td>\n",
              "      <td>...</td>\n",
              "      <td>...</td>\n",
              "      <td>...</td>\n",
              "    </tr>\n",
              "    <tr>\n",
              "      <th>23476</th>\n",
              "      <td>McPain: John McCain Furious That Iran Treated ...</td>\n",
              "      <td>21st Century Wire says As 21WIRE reported earl...</td>\n",
              "      <td>Middle-east</td>\n",
              "      <td>January 16, 2016</td>\n",
              "      <td>0</td>\n",
              "    </tr>\n",
              "    <tr>\n",
              "      <th>23477</th>\n",
              "      <td>JUSTICE? Yahoo Settles E-mail Privacy Class-ac...</td>\n",
              "      <td>21st Century Wire says It s a familiar theme. ...</td>\n",
              "      <td>Middle-east</td>\n",
              "      <td>January 16, 2016</td>\n",
              "      <td>0</td>\n",
              "    </tr>\n",
              "    <tr>\n",
              "      <th>23478</th>\n",
              "      <td>Sunnistan: US and Allied ‘Safe Zone’ Plan to T...</td>\n",
              "      <td>Patrick Henningsen  21st Century WireRemember ...</td>\n",
              "      <td>Middle-east</td>\n",
              "      <td>January 15, 2016</td>\n",
              "      <td>0</td>\n",
              "    </tr>\n",
              "    <tr>\n",
              "      <th>23479</th>\n",
              "      <td>How to Blow $700 Million: Al Jazeera America F...</td>\n",
              "      <td>21st Century Wire says Al Jazeera America will...</td>\n",
              "      <td>Middle-east</td>\n",
              "      <td>January 14, 2016</td>\n",
              "      <td>0</td>\n",
              "    </tr>\n",
              "    <tr>\n",
              "      <th>23480</th>\n",
              "      <td>10 U.S. Navy Sailors Held by Iranian Military ...</td>\n",
              "      <td>21st Century Wire says As 21WIRE predicted in ...</td>\n",
              "      <td>Middle-east</td>\n",
              "      <td>January 12, 2016</td>\n",
              "      <td>0</td>\n",
              "    </tr>\n",
              "  </tbody>\n",
              "</table>\n",
              "<p>23481 rows × 5 columns</p>\n",
              "</div>"
            ],
            "text/plain": [
              "                                                   title  ... flag\n",
              "0       Donald Trump Sends Out Embarrassing New Year’...  ...    0\n",
              "1       Drunk Bragging Trump Staffer Started Russian ...  ...    0\n",
              "2       Sheriff David Clarke Becomes An Internet Joke...  ...    0\n",
              "3       Trump Is So Obsessed He Even Has Obama’s Name...  ...    0\n",
              "4       Pope Francis Just Called Out Donald Trump Dur...  ...    0\n",
              "...                                                  ...  ...  ...\n",
              "23476  McPain: John McCain Furious That Iran Treated ...  ...    0\n",
              "23477  JUSTICE? Yahoo Settles E-mail Privacy Class-ac...  ...    0\n",
              "23478  Sunnistan: US and Allied ‘Safe Zone’ Plan to T...  ...    0\n",
              "23479  How to Blow $700 Million: Al Jazeera America F...  ...    0\n",
              "23480  10 U.S. Navy Sailors Held by Iranian Military ...  ...    0\n",
              "\n",
              "[23481 rows x 5 columns]"
            ]
          },
          "metadata": {
            "tags": []
          },
          "execution_count": 4
        }
      ]
    },
    {
      "cell_type": "code",
      "metadata": {
        "colab": {
          "base_uri": "https://localhost:8080/",
          "height": 418
        },
        "id": "GudLgtiY-eXq",
        "outputId": "017f36bc-855b-418b-bd55-d50f9e6e7d93"
      },
      "source": [
        "true2['flag'] = 1\n",
        "true2"
      ],
      "execution_count": null,
      "outputs": [
        {
          "output_type": "execute_result",
          "data": {
            "text/html": [
              "<div>\n",
              "<style scoped>\n",
              "    .dataframe tbody tr th:only-of-type {\n",
              "        vertical-align: middle;\n",
              "    }\n",
              "\n",
              "    .dataframe tbody tr th {\n",
              "        vertical-align: top;\n",
              "    }\n",
              "\n",
              "    .dataframe thead th {\n",
              "        text-align: right;\n",
              "    }\n",
              "</style>\n",
              "<table border=\"1\" class=\"dataframe\">\n",
              "  <thead>\n",
              "    <tr style=\"text-align: right;\">\n",
              "      <th></th>\n",
              "      <th>title</th>\n",
              "      <th>text</th>\n",
              "      <th>subject</th>\n",
              "      <th>date</th>\n",
              "      <th>flag</th>\n",
              "    </tr>\n",
              "  </thead>\n",
              "  <tbody>\n",
              "    <tr>\n",
              "      <th>0</th>\n",
              "      <td>As U.S. budget fight looms, Republicans flip t...</td>\n",
              "      <td>WASHINGTON (Reuters) - The head of a conservat...</td>\n",
              "      <td>politicsNews</td>\n",
              "      <td>December 31, 2017</td>\n",
              "      <td>1</td>\n",
              "    </tr>\n",
              "    <tr>\n",
              "      <th>1</th>\n",
              "      <td>U.S. military to accept transgender recruits o...</td>\n",
              "      <td>WASHINGTON (Reuters) - Transgender people will...</td>\n",
              "      <td>politicsNews</td>\n",
              "      <td>December 29, 2017</td>\n",
              "      <td>1</td>\n",
              "    </tr>\n",
              "    <tr>\n",
              "      <th>2</th>\n",
              "      <td>Senior U.S. Republican senator: 'Let Mr. Muell...</td>\n",
              "      <td>WASHINGTON (Reuters) - The special counsel inv...</td>\n",
              "      <td>politicsNews</td>\n",
              "      <td>December 31, 2017</td>\n",
              "      <td>1</td>\n",
              "    </tr>\n",
              "    <tr>\n",
              "      <th>3</th>\n",
              "      <td>FBI Russia probe helped by Australian diplomat...</td>\n",
              "      <td>WASHINGTON (Reuters) - Trump campaign adviser ...</td>\n",
              "      <td>politicsNews</td>\n",
              "      <td>December 30, 2017</td>\n",
              "      <td>1</td>\n",
              "    </tr>\n",
              "    <tr>\n",
              "      <th>4</th>\n",
              "      <td>Trump wants Postal Service to charge 'much mor...</td>\n",
              "      <td>SEATTLE/WASHINGTON (Reuters) - President Donal...</td>\n",
              "      <td>politicsNews</td>\n",
              "      <td>December 29, 2017</td>\n",
              "      <td>1</td>\n",
              "    </tr>\n",
              "    <tr>\n",
              "      <th>...</th>\n",
              "      <td>...</td>\n",
              "      <td>...</td>\n",
              "      <td>...</td>\n",
              "      <td>...</td>\n",
              "      <td>...</td>\n",
              "    </tr>\n",
              "    <tr>\n",
              "      <th>21412</th>\n",
              "      <td>'Fully committed' NATO backs new U.S. approach...</td>\n",
              "      <td>BRUSSELS (Reuters) - NATO allies on Tuesday we...</td>\n",
              "      <td>worldnews</td>\n",
              "      <td>August 22, 2017</td>\n",
              "      <td>1</td>\n",
              "    </tr>\n",
              "    <tr>\n",
              "      <th>21413</th>\n",
              "      <td>LexisNexis withdrew two products from Chinese ...</td>\n",
              "      <td>LONDON (Reuters) - LexisNexis, a provider of l...</td>\n",
              "      <td>worldnews</td>\n",
              "      <td>August 22, 2017</td>\n",
              "      <td>1</td>\n",
              "    </tr>\n",
              "    <tr>\n",
              "      <th>21414</th>\n",
              "      <td>Minsk cultural hub becomes haven from authorities</td>\n",
              "      <td>MINSK (Reuters) - In the shadow of disused Sov...</td>\n",
              "      <td>worldnews</td>\n",
              "      <td>August 22, 2017</td>\n",
              "      <td>1</td>\n",
              "    </tr>\n",
              "    <tr>\n",
              "      <th>21415</th>\n",
              "      <td>Vatican upbeat on possibility of Pope Francis ...</td>\n",
              "      <td>MOSCOW (Reuters) - Vatican Secretary of State ...</td>\n",
              "      <td>worldnews</td>\n",
              "      <td>August 22, 2017</td>\n",
              "      <td>1</td>\n",
              "    </tr>\n",
              "    <tr>\n",
              "      <th>21416</th>\n",
              "      <td>Indonesia to buy $1.14 billion worth of Russia...</td>\n",
              "      <td>JAKARTA (Reuters) - Indonesia will buy 11 Sukh...</td>\n",
              "      <td>worldnews</td>\n",
              "      <td>August 22, 2017</td>\n",
              "      <td>1</td>\n",
              "    </tr>\n",
              "  </tbody>\n",
              "</table>\n",
              "<p>21417 rows × 5 columns</p>\n",
              "</div>"
            ],
            "text/plain": [
              "                                                   title  ... flag\n",
              "0      As U.S. budget fight looms, Republicans flip t...  ...    1\n",
              "1      U.S. military to accept transgender recruits o...  ...    1\n",
              "2      Senior U.S. Republican senator: 'Let Mr. Muell...  ...    1\n",
              "3      FBI Russia probe helped by Australian diplomat...  ...    1\n",
              "4      Trump wants Postal Service to charge 'much mor...  ...    1\n",
              "...                                                  ...  ...  ...\n",
              "21412  'Fully committed' NATO backs new U.S. approach...  ...    1\n",
              "21413  LexisNexis withdrew two products from Chinese ...  ...    1\n",
              "21414  Minsk cultural hub becomes haven from authorities  ...    1\n",
              "21415  Vatican upbeat on possibility of Pope Francis ...  ...    1\n",
              "21416  Indonesia to buy $1.14 billion worth of Russia...  ...    1\n",
              "\n",
              "[21417 rows x 5 columns]"
            ]
          },
          "metadata": {
            "tags": []
          },
          "execution_count": 5
        }
      ]
    },
    {
      "cell_type": "code",
      "metadata": {
        "id": "LR4Uf6Il-C3-"
      },
      "source": [
        "df2 = pd.DataFrame()\n",
        "df2 = true2.append(fake2)"
      ],
      "execution_count": null,
      "outputs": []
    },
    {
      "cell_type": "code",
      "metadata": {
        "colab": {
          "base_uri": "https://localhost:8080/",
          "height": 204
        },
        "id": "b9gzV3GjeAp8",
        "outputId": "0e3e3a94-48ce-441c-c483-c1c1c36329b1"
      },
      "source": [
        "df2.head()"
      ],
      "execution_count": null,
      "outputs": [
        {
          "output_type": "execute_result",
          "data": {
            "text/html": [
              "<div>\n",
              "<style scoped>\n",
              "    .dataframe tbody tr th:only-of-type {\n",
              "        vertical-align: middle;\n",
              "    }\n",
              "\n",
              "    .dataframe tbody tr th {\n",
              "        vertical-align: top;\n",
              "    }\n",
              "\n",
              "    .dataframe thead th {\n",
              "        text-align: right;\n",
              "    }\n",
              "</style>\n",
              "<table border=\"1\" class=\"dataframe\">\n",
              "  <thead>\n",
              "    <tr style=\"text-align: right;\">\n",
              "      <th></th>\n",
              "      <th>title</th>\n",
              "      <th>text</th>\n",
              "      <th>subject</th>\n",
              "      <th>date</th>\n",
              "      <th>flag</th>\n",
              "    </tr>\n",
              "  </thead>\n",
              "  <tbody>\n",
              "    <tr>\n",
              "      <th>0</th>\n",
              "      <td>As U.S. budget fight looms, Republicans flip t...</td>\n",
              "      <td>WASHINGTON (Reuters) - The head of a conservat...</td>\n",
              "      <td>politicsNews</td>\n",
              "      <td>December 31, 2017</td>\n",
              "      <td>1</td>\n",
              "    </tr>\n",
              "    <tr>\n",
              "      <th>1</th>\n",
              "      <td>U.S. military to accept transgender recruits o...</td>\n",
              "      <td>WASHINGTON (Reuters) - Transgender people will...</td>\n",
              "      <td>politicsNews</td>\n",
              "      <td>December 29, 2017</td>\n",
              "      <td>1</td>\n",
              "    </tr>\n",
              "    <tr>\n",
              "      <th>2</th>\n",
              "      <td>Senior U.S. Republican senator: 'Let Mr. Muell...</td>\n",
              "      <td>WASHINGTON (Reuters) - The special counsel inv...</td>\n",
              "      <td>politicsNews</td>\n",
              "      <td>December 31, 2017</td>\n",
              "      <td>1</td>\n",
              "    </tr>\n",
              "    <tr>\n",
              "      <th>3</th>\n",
              "      <td>FBI Russia probe helped by Australian diplomat...</td>\n",
              "      <td>WASHINGTON (Reuters) - Trump campaign adviser ...</td>\n",
              "      <td>politicsNews</td>\n",
              "      <td>December 30, 2017</td>\n",
              "      <td>1</td>\n",
              "    </tr>\n",
              "    <tr>\n",
              "      <th>4</th>\n",
              "      <td>Trump wants Postal Service to charge 'much mor...</td>\n",
              "      <td>SEATTLE/WASHINGTON (Reuters) - President Donal...</td>\n",
              "      <td>politicsNews</td>\n",
              "      <td>December 29, 2017</td>\n",
              "      <td>1</td>\n",
              "    </tr>\n",
              "  </tbody>\n",
              "</table>\n",
              "</div>"
            ],
            "text/plain": [
              "                                               title  ... flag\n",
              "0  As U.S. budget fight looms, Republicans flip t...  ...    1\n",
              "1  U.S. military to accept transgender recruits o...  ...    1\n",
              "2  Senior U.S. Republican senator: 'Let Mr. Muell...  ...    1\n",
              "3  FBI Russia probe helped by Australian diplomat...  ...    1\n",
              "4  Trump wants Postal Service to charge 'much mor...  ...    1\n",
              "\n",
              "[5 rows x 5 columns]"
            ]
          },
          "metadata": {
            "tags": []
          },
          "execution_count": 7
        }
      ]
    },
    {
      "cell_type": "code",
      "metadata": {
        "id": "pnhGXVHrfGmc"
      },
      "source": [
        "df2['text']=df2['title']+df2['text']\n",
        "df2=df2.drop(['title'], axis=1)"
      ],
      "execution_count": null,
      "outputs": []
    },
    {
      "cell_type": "code",
      "metadata": {
        "colab": {
          "base_uri": "https://localhost:8080/"
        },
        "id": "GszKA3l_fH3Z",
        "outputId": "bda3f299-d2fe-40d0-8743-6c3357e8c074"
      },
      "source": [
        "df2.head()"
      ],
      "execution_count": null,
      "outputs": [
        {
          "output_type": "execute_result",
          "data": {
            "text/html": [
              "<div>\n",
              "<style scoped>\n",
              "    .dataframe tbody tr th:only-of-type {\n",
              "        vertical-align: middle;\n",
              "    }\n",
              "\n",
              "    .dataframe tbody tr th {\n",
              "        vertical-align: top;\n",
              "    }\n",
              "\n",
              "    .dataframe thead th {\n",
              "        text-align: right;\n",
              "    }\n",
              "</style>\n",
              "<table border=\"1\" class=\"dataframe\">\n",
              "  <thead>\n",
              "    <tr style=\"text-align: right;\">\n",
              "      <th></th>\n",
              "      <th>text</th>\n",
              "      <th>subject</th>\n",
              "      <th>date</th>\n",
              "      <th>flag</th>\n",
              "    </tr>\n",
              "  </thead>\n",
              "  <tbody>\n",
              "    <tr>\n",
              "      <th>0</th>\n",
              "      <td>As U.S. budget fight looms, Republicans flip t...</td>\n",
              "      <td>politicsNews</td>\n",
              "      <td>December 31, 2017</td>\n",
              "      <td>1</td>\n",
              "    </tr>\n",
              "    <tr>\n",
              "      <th>1</th>\n",
              "      <td>U.S. military to accept transgender recruits o...</td>\n",
              "      <td>politicsNews</td>\n",
              "      <td>December 29, 2017</td>\n",
              "      <td>1</td>\n",
              "    </tr>\n",
              "    <tr>\n",
              "      <th>2</th>\n",
              "      <td>Senior U.S. Republican senator: 'Let Mr. Muell...</td>\n",
              "      <td>politicsNews</td>\n",
              "      <td>December 31, 2017</td>\n",
              "      <td>1</td>\n",
              "    </tr>\n",
              "    <tr>\n",
              "      <th>3</th>\n",
              "      <td>FBI Russia probe helped by Australian diplomat...</td>\n",
              "      <td>politicsNews</td>\n",
              "      <td>December 30, 2017</td>\n",
              "      <td>1</td>\n",
              "    </tr>\n",
              "    <tr>\n",
              "      <th>4</th>\n",
              "      <td>Trump wants Postal Service to charge 'much mor...</td>\n",
              "      <td>politicsNews</td>\n",
              "      <td>December 29, 2017</td>\n",
              "      <td>1</td>\n",
              "    </tr>\n",
              "  </tbody>\n",
              "</table>\n",
              "</div>"
            ],
            "text/plain": [
              "                                                text  ... flag\n",
              "0  As U.S. budget fight looms, Republicans flip t...  ...    1\n",
              "1  U.S. military to accept transgender recruits o...  ...    1\n",
              "2  Senior U.S. Republican senator: 'Let Mr. Muell...  ...    1\n",
              "3  FBI Russia probe helped by Australian diplomat...  ...    1\n",
              "4  Trump wants Postal Service to charge 'much mor...  ...    1\n",
              "\n",
              "[5 rows x 4 columns]"
            ]
          },
          "metadata": {
            "tags": []
          },
          "execution_count": 9
        }
      ]
    },
    {
      "cell_type": "markdown",
      "metadata": {
        "id": "CEEKTmso_oFB"
      },
      "source": [
        "## EDA + Data Cleaning"
      ]
    },
    {
      "cell_type": "markdown",
      "metadata": {
        "id": "WFSlqoYsALFZ"
      },
      "source": [
        "### Visualization"
      ]
    },
    {
      "cell_type": "markdown",
      "metadata": {
        "id": "hAAioOl4Akzx"
      },
      "source": [
        "Counting and visualizing real and fake data."
      ]
    },
    {
      "cell_type": "code",
      "metadata": {
        "colab": {
          "base_uri": "https://localhost:8080/",
          "height": 459
        },
        "id": "4bgEmi_AARba",
        "outputId": "5b6cb24f-3b47-4576-9cec-004857c82f79"
      },
      "source": [
        "import matplotlib.pyplot as plt\n",
        "import seaborn as sns\n",
        "\n",
        "# 0 = fake\n",
        "# 1 = real\n",
        "\n",
        "print(df2[\"flag\"].value_counts())\n",
        "fig, ax = plt.subplots(1,2, figsize=(19, 5))\n",
        "g1 = sns.countplot(df2.flag,ax=ax[0],palette=\"pastel\");\n",
        "g1.set_title(\"Count of fake and real data\")\n",
        "g1.set_ylabel(\"Count\")\n",
        "g1.set_xlabel(\"Flag\")\n",
        "g2 = plt.pie(df2[\"flag\"].value_counts().values,explode=[0,0],labels=df2.flag.value_counts().index, autopct='%1.1f%%',colors=['SkyBlue','PeachPuff'])\n",
        "fig.show()"
      ],
      "execution_count": null,
      "outputs": [
        {
          "output_type": "stream",
          "text": [
            "0    23481\n",
            "1    21417\n",
            "Name: flag, dtype: int64\n"
          ],
          "name": "stdout"
        },
        {
          "output_type": "stream",
          "text": [
            "/usr/local/lib/python3.7/dist-packages/seaborn/_decorators.py:43: FutureWarning: Pass the following variable as a keyword arg: x. From version 0.12, the only valid positional argument will be `data`, and passing other arguments without an explicit keyword will result in an error or misinterpretation.\n",
            "  FutureWarning\n"
          ],
          "name": "stderr"
        },
        {
          "output_type": "display_data",
          "data": {
            "image/png": "[encoded data removed]",
            "text/plain": [
              "<Figure size 1368x360 with 2 Axes>"
            ]
          },
          "metadata": {
            "tags": [],
            "needs_background": "light"
          }
        }
      ]
    },
    {
      "cell_type": "markdown",
      "metadata": {
        "id": "mBIwVgD4BtdT"
      },
      "source": [
        "### Subject Distribution\n",
        "We visualized the distribution of different subjects according to the nature of the news: 'Fake' or 'True'."
      ]
    },
    {
      "cell_type": "code",
      "metadata": {
        "colab": {
          "base_uri": "https://localhost:8080/",
          "height": 529
        },
        "id": "mpZO8wCqCRia",
        "outputId": "089e8c1e-de1d-4089-dd31-76463cc745ae"
      },
      "source": [
        "print(df2.subject.value_counts())\n",
        "plt.figure(figsize=(10, 5))\n",
        "\n",
        "ax = sns.countplot(x=\"subject\",  hue='flag', data=df2, palette=\"pastel\")\n",
        "plt.title(\"Distribution of The Subject According to Real and Fake Data\")"
      ],
      "execution_count": null,
      "outputs": [
        {
          "output_type": "stream",
          "text": [
            "politicsNews       11272\n",
            "worldnews          10145\n",
            "News                9050\n",
            "politics            6841\n",
            "left-news           4459\n",
            "Government News     1570\n",
            "US_News              783\n",
            "Middle-east          778\n",
            "Name: subject, dtype: int64\n"
          ],
          "name": "stdout"
        },
        {
          "output_type": "execute_result",
          "data": {
            "text/plain": [
              "Text(0.5, 1.0, 'Distribution of The Subject According to Real and Fake Data')"
            ]
          },
          "metadata": {
            "tags": []
          },
          "execution_count": 11
        },
        {
          "output_type": "display_data",
          "data": {
            "image/png": "[encoded data removed]",
            "text/plain": [
              "<Figure size 720x360 with 1 Axes>"
            ]
          },
          "metadata": {
            "tags": [],
            "needs_background": "light"
          }
        }
      ]
    },
    {
      "cell_type": "markdown",
      "metadata": {
        "id": "PcJ4uIVKbkcM"
      },
      "source": [
        "### Feature Engineering"
      ]
    },
    {
      "cell_type": "markdown",
      "metadata": {
        "id": "IZeQAADP_0fZ"
      },
      "source": [
        "Check if there's any null values. Drop the row which contains null values, if there's any."
      ]
    },
    {
      "cell_type": "code",
      "metadata": {
        "colab": {
          "base_uri": "https://localhost:8080/"
        },
        "id": "RCiym6PD_r0o",
        "outputId": "e3a408d6-d53c-467f-bc01-de5b522e28a8"
      },
      "source": [
        "df2.isnull().sum()"
      ],
      "execution_count": null,
      "outputs": [
        {
          "output_type": "execute_result",
          "data": {
            "text/plain": [
              "text       0\n",
              "subject    0\n",
              "date       0\n",
              "flag       0\n",
              "dtype: int64"
            ]
          },
          "metadata": {
            "tags": []
          },
          "execution_count": 12
        }
      ]
    },
    {
      "cell_type": "markdown",
      "metadata": {
        "id": "JFb_VTCO-gug"
      },
      "source": [
        "Lowercase words, remove the word 'Reuters', remove square brackets, HTML tags, words containing numbers and punctuations.\n",
        "\n",
        "Cleaning our text data is important so that the model wont be fed noises that would not help with the prediction.\n",
        "The word reuters was removed as it always appear in the real news article therefore I removed it as it is an obvious indicator to the model."
      ]
    },
    {
      "cell_type": "code",
      "metadata": {
        "id": "DMxF--Zd-jY2"
      },
      "source": [
        "import re\n",
        "import string\n",
        "\n",
        "def clean_text(text):\n",
        "    \n",
        "    text = str(text).lower()\n",
        "    text = re.sub('\\[.*?\\]', '', text)\n",
        "    text = re.sub('https?://\\S+|www\\.\\S+', '', text)\n",
        "    text = re.sub('<.*?>+', '', text)\n",
        "    text = re.sub('[%s]' % re.escape(string.punctuation), '', text)\n",
        "    text = re.sub('\\n', '', text)\n",
        "    text = re.sub('\\w*\\d\\w*', '', text)\n",
        "    text = re.sub('Reuters','',text)\n",
        "    return text\n",
        "\n",
        "df2['text'] = df2['text'].apply(lambda x:clean_text(x))"
      ],
      "execution_count": null,
      "outputs": []
    },
    {
      "cell_type": "markdown",
      "metadata": {
        "id": "Q8HrdUpOBbnu"
      },
      "source": [
        "Removing the duplicates and preventing problems with indexing."
      ]
    },
    {
      "cell_type": "code",
      "metadata": {
        "id": "dFrAkseaBcOe"
      },
      "source": [
        "df2 = df2.drop_duplicates()\n",
        "df2 = df2.reset_index(drop=True)"
      ],
      "execution_count": null,
      "outputs": []
    },
    {
      "cell_type": "markdown",
      "metadata": {
        "id": "K37zpe4MBuai"
      },
      "source": [
        "Reformatting the data to ease future analysis."
      ]
    },
    {
      "cell_type": "code",
      "metadata": {
        "id": "puN8H0_hBy_u"
      },
      "source": [
        "df2['date'] = df2['date'].replace(['19-Feb-18'],'February 19, 2018')\n",
        "df2['date'] = df2['date'].replace(['18-Feb-18'],'February 18, 2018')\n",
        "df2['date'] = df2['date'].replace(['17-Feb-18'],'February 17, 2018')\n",
        "df2['date'] = df2['date'].replace(['16-Feb-18'],'February 16, 2018')\n",
        "df2['date'] = df2['date'].replace(['15-Feb-18'],'February 15, 2018')\n",
        "df2['date'] = df2['date'].replace(['14-Feb-18'],'February 14, 2018')\n",
        "df2['date'] = df2['date'].replace(['13-Feb-18'],'February 13, 2018')\n",
        "\n",
        "df2['date'] = df2['date'].str.replace('Dec ', 'December ')\n",
        "df2['date'] = df2['date'].str.replace('Nov ', 'November ')\n",
        "df2['date'] = df2['date'].str.replace('Oct ', 'October ')\n",
        "df2['date'] = df2['date'].str.replace('Sep ', 'September ')\n",
        "df2['date'] = df2['date'].str.replace('Aug ', 'August ')\n",
        "df2['date'] = df2['date'].str.replace('Jul ', 'July ')\n",
        "df2['date'] = df2['date'].str.replace('Jun ', 'June ')\n",
        "df2['date'] = df2['date'].str.replace('Apr ', 'April ')\n",
        "df2['date'] = df2['date'].str.replace('Mar ', 'March ')\n",
        "df2['date'] = df2['date'].str.replace('Feb ', 'February ')\n",
        "df2['date'] = df2['date'].str.replace('Jan ', 'January ')"
      ],
      "execution_count": null,
      "outputs": []
    },
    {
      "cell_type": "code",
      "metadata": {
        "id": "SiCuc8AOB9bJ"
      },
      "source": [
        "df2['date'] = df2['date'].str.replace(' ', '')"
      ],
      "execution_count": null,
      "outputs": []
    },
    {
      "cell_type": "code",
      "metadata": {
        "colab": {
          "base_uri": "https://localhost:8080/"
        },
        "id": "wdWgqpkwCCTC",
        "outputId": "ed33e37c-4bab-4cb0-d536-7238242f7da9"
      },
      "source": [
        "for i, val in enumerate(df2['date']):\n",
        "    df2['date'].iloc[i] = pd.to_datetime(df2['date'].iloc[i], format='%B%d,%Y', errors='coerce') \n",
        "    # by setting the parameter to \"coerce\", we will set unappropriate values to NaT (null)"
      ],
      "execution_count": null,
      "outputs": [
        {
          "output_type": "stream",
          "text": [
            "/usr/local/lib/python3.7/dist-packages/pandas/core/indexing.py:670: SettingWithCopyWarning: \n",
            "A value is trying to be set on a copy of a slice from a DataFrame\n",
            "\n",
            "See the caveats in the documentation: https://pandas.pydata.org/pandas-docs/stable/user_guide/indexing.html#returning-a-view-versus-a-copy\n",
            "  iloc._setitem_with_indexer(indexer, value)\n"
          ],
          "name": "stderr"
        }
      ]
    },
    {
      "cell_type": "code",
      "metadata": {
        "colab": {
          "base_uri": "https://localhost:8080/"
        },
        "id": "RV3IBWliCJnb",
        "outputId": "6c158cf6-2b7e-4201-f063-c4a2ad25c1b6"
      },
      "source": [
        "df2['date'] = df2['date'].astype('datetime64[ns]')\n",
        "df2.info()"
      ],
      "execution_count": null,
      "outputs": [
        {
          "output_type": "stream",
          "text": [
            "<class 'pandas.core.frame.DataFrame'>\n",
            "RangeIndex: 44689 entries, 0 to 44688\n",
            "Data columns (total 4 columns):\n",
            " #   Column   Non-Null Count  Dtype         \n",
            "---  ------   --------------  -----         \n",
            " 0   text     44689 non-null  object        \n",
            " 1   subject  44689 non-null  object        \n",
            " 2   date     44679 non-null  datetime64[ns]\n",
            " 3   flag     44689 non-null  int64         \n",
            "dtypes: datetime64[ns](1), int64(1), object(2)\n",
            "memory usage: 1.4+ MB\n"
          ],
          "name": "stdout"
        }
      ]
    },
    {
      "cell_type": "code",
      "metadata": {
        "id": "GbmfCesICPsu"
      },
      "source": [
        "import datetime as dt\n",
        "df2['year'] = pd.to_datetime(df2['date']).dt.to_period('Y')\n",
        "df2['month'] = pd.to_datetime(df2['date']).dt.to_period('M')\n",
        "\n",
        "df2['month'] = df2['month'].astype(str)"
      ],
      "execution_count": null,
      "outputs": []
    },
    {
      "cell_type": "markdown",
      "metadata": {
        "id": "XddFDPn5Ct3j"
      },
      "source": [
        "Next we will try to elicit insights from non-text features to get to know if they will help us boost the Text Classifier."
      ]
    },
    {
      "cell_type": "markdown",
      "metadata": {
        "id": "5JPK_VWLCyyE"
      },
      "source": [
        "### Fake News Dynamics"
      ]
    },
    {
      "cell_type": "code",
      "metadata": {
        "id": "AkslV6HxC231"
      },
      "source": [
        "sub = df2[['month', 'flag']]\n",
        "sub = sub.dropna()\n",
        "sub = sub.groupby(['month'])['flag'].sum()"
      ],
      "execution_count": null,
      "outputs": []
    },
    {
      "cell_type": "code",
      "metadata": {
        "id": "lWLnwgmaC_Hx"
      },
      "source": [
        "sub = sub.drop('NaT')"
      ],
      "execution_count": null,
      "outputs": []
    },
    {
      "cell_type": "code",
      "metadata": {
        "colab": {
          "base_uri": "https://localhost:8080/",
          "height": 358
        },
        "id": "JQaULwWHDCAD",
        "outputId": "f589d9dc-a098-4e3f-f730-7adfea3e2845"
      },
      "source": [
        "import matplotlib.pyplot as plt\n",
        "\n",
        "plt.suptitle('Dynamics of fake news')\n",
        "plt.xticks(rotation=90)\n",
        "plt.ylabel('Number of fake news')\n",
        "plt.xlabel('Month-Year')\n",
        "plt.plot(sub.index, sub.values, linewidth=2, color='green')"
      ],
      "execution_count": null,
      "outputs": [
        {
          "output_type": "execute_result",
          "data": {
            "text/plain": [
              "[<matplotlib.lines.Line2D at 0x7f464e18ff90>]"
            ]
          },
          "metadata": {
            "tags": []
          },
          "execution_count": 22
        },
        {
          "output_type": "display_data",
          "data": {
            "image/png": "[encoded data removed]",
            "text/plain": [
              "<Figure size 432x288 with 1 Axes>"
            ]
          },
          "metadata": {
            "tags": [],
            "needs_background": "light"
          }
        }
      ]
    },
    {
      "cell_type": "markdown",
      "metadata": {
        "id": "LPCoP4VHG2fE"
      },
      "source": [
        "### Word Cloud Visualization"
      ]
    },
    {
      "cell_type": "code",
      "metadata": {
        "id": "5Vnsln53G5l-"
      },
      "source": [
        "from sklearn.feature_extraction.text import TfidfVectorizer\n",
        "\n",
        "corpus = df2[df2['flag'] == 1]['text'].iloc[0:500]\n",
        "tfidf1 = TfidfVectorizer()\n",
        "vecs = tfidf1.fit_transform(corpus)\n",
        "\n",
        "feature_names = tfidf1.get_feature_names()\n",
        "dense = vecs.todense()\n",
        "list_words = dense.tolist()\n",
        "df_words = pd.DataFrame(list_words, columns=feature_names)"
      ],
      "execution_count": null,
      "outputs": []
    },
    {
      "cell_type": "code",
      "metadata": {
        "id": "qWSGgnlOG-jY"
      },
      "source": [
        "from wordcloud import WordCloud, STOPWORDS, ImageColorGenerator\n",
        "df_words.T.sum(axis=1)\n",
        "Cloud = WordCloud(background_color=\"white\", max_words=100).generate_from_frequencies(df_words.T.sum(axis=1))"
      ],
      "execution_count": null,
      "outputs": []
    },
    {
      "cell_type": "code",
      "metadata": {
        "colab": {
          "base_uri": "https://localhost:8080/",
          "height": 340
        },
        "id": "sc7mmye5HAhm",
        "outputId": "05a31c6f-f353-406d-f4cc-d59ec03d3de4"
      },
      "source": [
        "import matplotlib.pyplot as plt\n",
        "plt.figure(figsize=(12,5))\n",
        "plt.imshow(Cloud, interpolation='bilinear')"
      ],
      "execution_count": null,
      "outputs": [
        {
          "output_type": "execute_result",
          "data": {
            "text/plain": [
              "<matplotlib.image.AxesImage at 0x7f4641a7f650>"
            ]
          },
          "metadata": {
            "tags": []
          },
          "execution_count": 25
        },
        {
          "output_type": "display_data",
          "data": {
            "image/png": "[encoded data removed]",
            "text/plain": [
              "<Figure size 864x360 with 1 Axes>"
            ]
          },
          "metadata": {
            "tags": [],
            "needs_background": "light"
          }
        }
      ]
    },
    {
      "cell_type": "markdown",
      "metadata": {
        "id": "ulG3AgfuITFr"
      },
      "source": [
        "Remove stopwords"
      ]
    },
    {
      "cell_type": "code",
      "metadata": {
        "id": "upVzEb90Aj56",
        "colab": {
          "base_uri": "https://localhost:8080/"
        },
        "outputId": "864d40ea-336e-430e-a5b8-8edc176b97ba"
      },
      "source": [
        "import nltk\n",
        "nltk.download('stopwords')\n",
        "from nltk.corpus import stopwords\n",
        "\n",
        "stop = stopwords.words('english')\n",
        "df2['text'] = df2['text'].apply(lambda x: ' '.join([word for word in x.split() if word not in (stop)]))"
      ],
      "execution_count": null,
      "outputs": [
        {
          "output_type": "stream",
          "text": [
            "[nltk_data] Downloading package stopwords to /root/nltk_data...\n",
            "[nltk_data]   Unzipping corpora/stopwords.zip.\n"
          ],
          "name": "stdout"
        }
      ]
    },
    {
      "cell_type": "markdown",
      "metadata": {
        "id": "C_5D8aAgIu4w"
      },
      "source": [
        "**Lemmatize words**\n",
        "<br>Instead of stemming, we use lemmatization this time.\n",
        "\n",
        "Words were lemmatized so that only root words are retain in the data and fed into the model"
      ]
    },
    {
      "cell_type": "code",
      "metadata": {
        "colab": {
          "base_uri": "https://localhost:8080/"
        },
        "id": "ftQVfom4IZFO",
        "outputId": "97f507a3-3b1f-4943-9535-e9a852e103a2"
      },
      "source": [
        "nltk.download('wordnet')\n",
        "  \n",
        "def lemmatize_words(text):\n",
        "    wnl = nltk.stem.WordNetLemmatizer()\n",
        "    lem = ' '.join([wnl.lemmatize(word) for word in text.split()])    \n",
        "    return lem\n",
        "\n",
        "df2['text'] = df2['text'].apply(lemmatize_words)"
      ],
      "execution_count": null,
      "outputs": [
        {
          "output_type": "stream",
          "text": [
            "[nltk_data] Downloading package wordnet to /root/nltk_data...\n",
            "[nltk_data]   Unzipping corpora/wordnet.zip.\n"
          ],
          "name": "stdout"
        }
      ]
    },
    {
      "cell_type": "code",
      "metadata": {
        "colab": {
          "base_uri": "https://localhost:8080/",
          "height": 204
        },
        "id": "PQ_q65cpaQam",
        "outputId": "a3acdbc6-cf25-4416-8fc5-e0aed4f34df1"
      },
      "source": [
        "df2.head()"
      ],
      "execution_count": null,
      "outputs": [
        {
          "output_type": "execute_result",
          "data": {
            "text/html": [
              "<div>\n",
              "<style scoped>\n",
              "    .dataframe tbody tr th:only-of-type {\n",
              "        vertical-align: middle;\n",
              "    }\n",
              "\n",
              "    .dataframe tbody tr th {\n",
              "        vertical-align: top;\n",
              "    }\n",
              "\n",
              "    .dataframe thead th {\n",
              "        text-align: right;\n",
              "    }\n",
              "</style>\n",
              "<table border=\"1\" class=\"dataframe\">\n",
              "  <thead>\n",
              "    <tr style=\"text-align: right;\">\n",
              "      <th></th>\n",
              "      <th>text</th>\n",
              "      <th>subject</th>\n",
              "      <th>date</th>\n",
              "      <th>flag</th>\n",
              "      <th>year</th>\n",
              "      <th>month</th>\n",
              "    </tr>\n",
              "  </thead>\n",
              "  <tbody>\n",
              "    <tr>\n",
              "      <th>0</th>\n",
              "      <td>u budget fight loom republican flip fiscal scr...</td>\n",
              "      <td>politicsNews</td>\n",
              "      <td>2017-12-31</td>\n",
              "      <td>1</td>\n",
              "      <td>2017</td>\n",
              "      <td>2017-12</td>\n",
              "    </tr>\n",
              "    <tr>\n",
              "      <th>1</th>\n",
              "      <td>u military accept transgender recruit monday p...</td>\n",
              "      <td>politicsNews</td>\n",
              "      <td>2017-12-29</td>\n",
              "      <td>1</td>\n",
              "      <td>2017</td>\n",
              "      <td>2017-12</td>\n",
              "    </tr>\n",
              "    <tr>\n",
              "      <th>2</th>\n",
              "      <td>senior u republican senator let mr mueller job...</td>\n",
              "      <td>politicsNews</td>\n",
              "      <td>2017-12-31</td>\n",
              "      <td>1</td>\n",
              "      <td>2017</td>\n",
              "      <td>2017-12</td>\n",
              "    </tr>\n",
              "    <tr>\n",
              "      <th>3</th>\n",
              "      <td>fbi russia probe helped australian diplomat ti...</td>\n",
              "      <td>politicsNews</td>\n",
              "      <td>2017-12-30</td>\n",
              "      <td>1</td>\n",
              "      <td>2017</td>\n",
              "      <td>2017-12</td>\n",
              "    </tr>\n",
              "    <tr>\n",
              "      <th>4</th>\n",
              "      <td>trump want postal service charge much amazon s...</td>\n",
              "      <td>politicsNews</td>\n",
              "      <td>2017-12-29</td>\n",
              "      <td>1</td>\n",
              "      <td>2017</td>\n",
              "      <td>2017-12</td>\n",
              "    </tr>\n",
              "  </tbody>\n",
              "</table>\n",
              "</div>"
            ],
            "text/plain": [
              "                                                text  ...    month\n",
              "0  u budget fight loom republican flip fiscal scr...  ...  2017-12\n",
              "1  u military accept transgender recruit monday p...  ...  2017-12\n",
              "2  senior u republican senator let mr mueller job...  ...  2017-12\n",
              "3  fbi russia probe helped australian diplomat ti...  ...  2017-12\n",
              "4  trump want postal service charge much amazon s...  ...  2017-12\n",
              "\n",
              "[5 rows x 6 columns]"
            ]
          },
          "metadata": {
            "tags": []
          },
          "execution_count": 28
        }
      ]
    },
    {
      "cell_type": "markdown",
      "metadata": {
        "id": "OCrIYj9gJk5p"
      },
      "source": [
        "### Tfidf-vectorizing"
      ]
    },
    {
      "cell_type": "code",
      "metadata": {
        "id": "N2Uspga0JefX"
      },
      "source": [
        "tfidf = TfidfVectorizer()\n",
        "X_text = tfidf.fit_transform(df2['text'])"
      ],
      "execution_count": null,
      "outputs": []
    },
    {
      "cell_type": "markdown",
      "metadata": {
        "id": "-z-UUos0qhbL"
      },
      "source": [
        "### Data Splitting\n",
        "\n",
        "**'flag'** will be our label.\n",
        "<br> The other attributes will be our features.\n",
        "<br> "
      ]
    },
    {
      "cell_type": "code",
      "metadata": {
        "id": "yWrvC71eJpzh"
      },
      "source": [
        "from sklearn.model_selection import train_test_split\n",
        "X_train, X_test, y_train, y_test = train_test_split(X_text, df2['flag'], test_size=0.33, random_state=1)"
      ],
      "execution_count": null,
      "outputs": []
    },
    {
      "cell_type": "code",
      "metadata": {
        "id": "Sj4g0BR6ANNn"
      },
      "source": [
        "X_train2, X_test2, y_train2, y_test2 = train_test_split(X_text, df2['flag'], test_size=0.2, random_state=1)"
      ],
      "execution_count": null,
      "outputs": []
    },
    {
      "cell_type": "code",
      "metadata": {
        "id": "asTQX-vpAtQ7"
      },
      "source": [
        "X_train3, X_test3, y_train3, y_test3 = train_test_split(X_text, df2['flag'], test_size=0.3, random_state=1)"
      ],
      "execution_count": null,
      "outputs": []
    },
    {
      "cell_type": "code",
      "metadata": {
        "id": "zNM5d7rXA8EP"
      },
      "source": [
        "X_train4, X_test4, y_train4, y_test4 = train_test_split(X_text, df2['flag'], test_size=0.3, random_state=10)"
      ],
      "execution_count": null,
      "outputs": []
    },
    {
      "cell_type": "code",
      "metadata": {
        "id": "olBe72BMA8dC"
      },
      "source": [
        "X_train5, X_test5, y_train5, y_test5 = train_test_split(X_text, df2['flag'], test_size=0.4, random_state=1)"
      ],
      "execution_count": null,
      "outputs": []
    },
    {
      "cell_type": "markdown",
      "metadata": {
        "id": "BbhADSIXKK3F"
      },
      "source": [
        "## Model Building"
      ]
    },
    {
      "cell_type": "code",
      "metadata": {
        "id": "htJm2J7OKAVU"
      },
      "source": [
        "scores = {}\n",
        "scores2 = {}\n",
        "scores3 = {}\n",
        "scores4 = {}\n",
        "scores5 = {}"
      ],
      "execution_count": null,
      "outputs": []
    },
    {
      "cell_type": "markdown",
      "metadata": {
        "id": "ZwlRQ8khKm8b"
      },
      "source": [
        "### Linear SVC"
      ]
    },
    {
      "cell_type": "code",
      "metadata": {
        "id": "jXQFXS9qJ8sz"
      },
      "source": [
        "from sklearn.svm import LinearSVC\n",
        "from sklearn.pipeline import Pipeline\n",
        "from sklearn.model_selection import GridSearchCV, cross_val_score\n",
        "from sklearn.metrics import classification_report, accuracy_score, classification_report\n",
        "\n",
        "clf = LinearSVC()\n",
        "clf.fit(X_train, y_train)\n",
        "\n",
        "SVCpipe = Pipeline(steps=[('SVC',LinearSVC())])\n",
        "\n",
        "param_grid = {'C': [0.1,1, 10, 100],'max_iter':[10,50,100,500]}\n",
        "\n",
        "clf_GS = GridSearchCV(clf,param_grid,cv=5,return_train_score=True)\n",
        "clf_GS.fit(X_train, y_train)"
      ],
      "execution_count": null,
      "outputs": []
    },
    {
      "cell_type": "code",
      "metadata": {
        "colab": {
          "base_uri": "https://localhost:8080/"
        },
        "id": "GHRlRSfaitDQ",
        "outputId": "5d1e7c5e-b234-401d-a7bd-1927a4810ca2"
      },
      "source": [
        "print(clf_GS.best_estimator_)"
      ],
      "execution_count": null,
      "outputs": [
        {
          "output_type": "stream",
          "text": [
            "LinearSVC(C=100, class_weight=None, dual=True, fit_intercept=True,\n",
            "          intercept_scaling=1, loss='squared_hinge', max_iter=10,\n",
            "          multi_class='ovr', penalty='l2', random_state=None, tol=0.0001,\n",
            "          verbose=0)\n"
          ],
          "name": "stdout"
        }
      ]
    },
    {
      "cell_type": "code",
      "metadata": {
        "colab": {
          "base_uri": "https://localhost:8080/"
        },
        "id": "6L0zNBbD9LOc",
        "outputId": "8adf168c-5a66-4031-ce2b-f0bcd798844d"
      },
      "source": [
        "y_pred_SVC = clf_GS.best_estimator_.predict(X_test)\n",
        "\n",
        "print (classification_report(y_test,y_pred_SVC))\n",
        "print(cross_val_score(clf_GS, X_text, df2['flag'], cv=3))\n",
        "print(accuracy_score(y_pred_SVC, y_test))\n",
        "\n",
        "scores['LinearSVC'] = accuracy_score(y_pred_SVC, y_test)"
      ],
      "execution_count": null,
      "outputs": [
        {
          "output_type": "stream",
          "text": [
            "              precision    recall  f1-score   support\n",
            "\n",
            "           0       0.99      0.99      0.99      7687\n",
            "           1       0.99      0.99      0.99      7061\n",
            "\n",
            "    accuracy                           0.99     14748\n",
            "   macro avg       0.99      0.99      0.99     14748\n",
            "weighted avg       0.99      0.99      0.99     14748\n",
            "\n"
          ],
          "name": "stdout"
        },
        {
          "output_type": "stream",
          "text": [
            "/usr/local/lib/python3.7/dist-packages/sklearn/svm/_base.py:947: ConvergenceWarning: Liblinear failed to converge, increase the number of iterations.\n",
            "  \"the number of iterations.\", ConvergenceWarning)\n",
            "/usr/local/lib/python3.7/dist-packages/sklearn/svm/_base.py:947: ConvergenceWarning: Liblinear failed to converge, increase the number of iterations.\n",
            "  \"the number of iterations.\", ConvergenceWarning)\n",
            "/usr/local/lib/python3.7/dist-packages/sklearn/svm/_base.py:947: ConvergenceWarning: Liblinear failed to converge, increase the number of iterations.\n",
            "  \"the number of iterations.\", ConvergenceWarning)\n"
          ],
          "name": "stderr"
        },
        {
          "output_type": "stream",
          "text": [
            "[0.98422501 0.98113588 0.98758056]\n",
            "0.9938974776240846\n"
          ],
          "name": "stdout"
        }
      ]
    },
    {
      "cell_type": "code",
      "metadata": {
        "id": "eOuRO6N6AStw"
      },
      "source": [
        "clf_GS.fit(X_train2, y_train2)"
      ],
      "execution_count": null,
      "outputs": []
    },
    {
      "cell_type": "code",
      "metadata": {
        "colab": {
          "base_uri": "https://localhost:8080/"
        },
        "id": "r9fG5mkHAYMP",
        "outputId": "888b69de-718b-4058-f0fe-cdbdb30ce7f9"
      },
      "source": [
        "y_pred_SVM2 = clf_GS.best_estimator_.predict(X_test2)\n",
        "print (classification_report(y_test2,y_pred_SVM2))\n",
        "print(cross_val_score(clf_GS, X_text, df2['flag'], cv=3))\n",
        "print(accuracy_score(y_pred_SVM2, y_test2))\n",
        "\n",
        "scores2['LinearSVC'] = accuracy_score(y_pred_SVM2, y_test2)"
      ],
      "execution_count": null,
      "outputs": [
        {
          "output_type": "stream",
          "text": [
            "              precision    recall  f1-score   support\n",
            "\n",
            "           0       1.00      0.99      0.99      4635\n",
            "           1       0.99      1.00      0.99      4303\n",
            "\n",
            "    accuracy                           0.99      8938\n",
            "   macro avg       0.99      0.99      0.99      8938\n",
            "weighted avg       0.99      0.99      0.99      8938\n",
            "\n"
          ],
          "name": "stdout"
        },
        {
          "output_type": "stream",
          "text": [
            "/usr/local/lib/python3.7/dist-packages/sklearn/svm/_base.py:947: ConvergenceWarning: Liblinear failed to converge, increase the number of iterations.\n",
            "  \"the number of iterations.\", ConvergenceWarning)\n",
            "/usr/local/lib/python3.7/dist-packages/sklearn/svm/_base.py:947: ConvergenceWarning: Liblinear failed to converge, increase the number of iterations.\n",
            "  \"the number of iterations.\", ConvergenceWarning)\n",
            "/usr/local/lib/python3.7/dist-packages/sklearn/svm/_base.py:947: ConvergenceWarning: Liblinear failed to converge, increase the number of iterations.\n",
            "  \"the number of iterations.\", ConvergenceWarning)\n"
          ],
          "name": "stderr"
        },
        {
          "output_type": "stream",
          "text": [
            "[0.98301671 0.98106874 0.98744629]\n",
            "0.9947415529201163\n"
          ],
          "name": "stdout"
        }
      ]
    },
    {
      "cell_type": "code",
      "metadata": {
        "id": "mMYkwLchBLDa"
      },
      "source": [
        "clf_GS.fit(X_train3, y_train3)"
      ],
      "execution_count": null,
      "outputs": []
    },
    {
      "cell_type": "code",
      "metadata": {
        "colab": {
          "base_uri": "https://localhost:8080/"
        },
        "id": "4JKZCf6oBP4M",
        "outputId": "231e7f36-da7a-4c51-9b1a-7b242132c809"
      },
      "source": [
        "y_pred_SVM3 = clf_GS.best_estimator_.predict(X_test3)\n",
        "print (classification_report(y_test3,y_pred_SVM3))\n",
        "print(cross_val_score(clf_GS, X_text, df2['flag'], cv=3))\n",
        "print(accuracy_score(y_pred_SVM3, y_test3))\n",
        "\n",
        "scores3['LinearSVC'] = accuracy_score(y_pred_SVM3, y_test3)"
      ],
      "execution_count": null,
      "outputs": [
        {
          "output_type": "stream",
          "text": [
            "              precision    recall  f1-score   support\n",
            "\n",
            "           0       0.99      0.99      0.99      6999\n",
            "           1       0.99      0.99      0.99      6408\n",
            "\n",
            "    accuracy                           0.99     13407\n",
            "   macro avg       0.99      0.99      0.99     13407\n",
            "weighted avg       0.99      0.99      0.99     13407\n",
            "\n"
          ],
          "name": "stdout"
        },
        {
          "output_type": "stream",
          "text": [
            "/usr/local/lib/python3.7/dist-packages/sklearn/svm/_base.py:947: ConvergenceWarning: Liblinear failed to converge, increase the number of iterations.\n",
            "  \"the number of iterations.\", ConvergenceWarning)\n",
            "/usr/local/lib/python3.7/dist-packages/sklearn/svm/_base.py:947: ConvergenceWarning: Liblinear failed to converge, increase the number of iterations.\n",
            "  \"the number of iterations.\", ConvergenceWarning)\n",
            "/usr/local/lib/python3.7/dist-packages/sklearn/svm/_base.py:947: ConvergenceWarning: Liblinear failed to converge, increase the number of iterations.\n",
            "  \"the number of iterations.\", ConvergenceWarning)\n"
          ],
          "name": "stderr"
        },
        {
          "output_type": "stream",
          "text": [
            "[0.98355374 0.98227712 0.98771482]\n",
            "0.9938837920489296\n"
          ],
          "name": "stdout"
        }
      ]
    },
    {
      "cell_type": "code",
      "metadata": {
        "id": "FP9udfscBewM"
      },
      "source": [
        "clf_GS.fit(X_train4, y_train4)"
      ],
      "execution_count": null,
      "outputs": []
    },
    {
      "cell_type": "code",
      "metadata": {
        "colab": {
          "base_uri": "https://localhost:8080/"
        },
        "id": "cHffkfE3Bkis",
        "outputId": "1c6f0f25-6455-4b0e-a63f-005a1ebc83eb"
      },
      "source": [
        "y_pred_SVM4 = clf_GS.best_estimator_.predict(X_test4)\n",
        "print (classification_report(y_test4,y_pred_SVM4))\n",
        "print(cross_val_score(clf_GS, X_text, df2['flag'], cv=3))\n",
        "print(accuracy_score(y_pred_SVM4, y_test4))\n",
        "\n",
        "scores4['LinearSVC'] = accuracy_score(y_pred_SVM4, y_test4)"
      ],
      "execution_count": null,
      "outputs": [
        {
          "output_type": "stream",
          "text": [
            "              precision    recall  f1-score   support\n",
            "\n",
            "           0       0.99      0.99      0.99      7003\n",
            "           1       0.99      0.99      0.99      6404\n",
            "\n",
            "    accuracy                           0.99     13407\n",
            "   macro avg       0.99      0.99      0.99     13407\n",
            "weighted avg       0.99      0.99      0.99     13407\n",
            "\n"
          ],
          "name": "stdout"
        },
        {
          "output_type": "stream",
          "text": [
            "/usr/local/lib/python3.7/dist-packages/sklearn/svm/_base.py:947: ConvergenceWarning: Liblinear failed to converge, increase the number of iterations.\n",
            "  \"the number of iterations.\", ConvergenceWarning)\n",
            "/usr/local/lib/python3.7/dist-packages/sklearn/svm/_base.py:947: ConvergenceWarning: Liblinear failed to converge, increase the number of iterations.\n",
            "  \"the number of iterations.\", ConvergenceWarning)\n",
            "/usr/local/lib/python3.7/dist-packages/sklearn/svm/_base.py:947: ConvergenceWarning: Liblinear failed to converge, increase the number of iterations.\n",
            "  \"the number of iterations.\", ConvergenceWarning)\n"
          ],
          "name": "stderr"
        },
        {
          "output_type": "stream",
          "text": [
            "[0.98281533 0.98053169 0.98771482]\n",
            "0.9938837920489296\n"
          ],
          "name": "stdout"
        }
      ]
    },
    {
      "cell_type": "code",
      "metadata": {
        "id": "cYu59bvIBt-7"
      },
      "source": [
        "clf_GS.fit(X_train5, y_train5)"
      ],
      "execution_count": null,
      "outputs": []
    },
    {
      "cell_type": "code",
      "metadata": {
        "colab": {
          "base_uri": "https://localhost:8080/"
        },
        "id": "MuDpKEh4B4vL",
        "outputId": "83bb0abb-3bdf-4099-c5e2-1fe49fff3d12"
      },
      "source": [
        "y_pred_SVM5 = clf_GS.best_estimator_.predict(X_test5)\n",
        "print (classification_report(y_test5,y_pred_SVM5))\n",
        "print(cross_val_score(clf_GS, X_text, df2['flag'], cv=3))\n",
        "print(accuracy_score(y_pred_SVM5, y_test5))\n",
        "\n",
        "scores5['LinearSVC'] = accuracy_score(y_pred_SVM5, y_test5)"
      ],
      "execution_count": null,
      "outputs": [
        {
          "output_type": "stream",
          "text": [
            "              precision    recall  f1-score   support\n",
            "\n",
            "           0       0.99      0.99      0.99      9337\n",
            "           1       0.99      0.99      0.99      8539\n",
            "\n",
            "    accuracy                           0.99     17876\n",
            "   macro avg       0.99      0.99      0.99     17876\n",
            "weighted avg       0.99      0.99      0.99     17876\n",
            "\n"
          ],
          "name": "stdout"
        },
        {
          "output_type": "stream",
          "text": [
            "/usr/local/lib/python3.7/dist-packages/sklearn/svm/_base.py:947: ConvergenceWarning: Liblinear failed to converge, increase the number of iterations.\n",
            "  \"the number of iterations.\", ConvergenceWarning)\n",
            "/usr/local/lib/python3.7/dist-packages/sklearn/svm/_base.py:947: ConvergenceWarning: Liblinear failed to converge, increase the number of iterations.\n",
            "  \"the number of iterations.\", ConvergenceWarning)\n",
            "/usr/local/lib/python3.7/dist-packages/sklearn/svm/_base.py:947: ConvergenceWarning: Liblinear failed to converge, increase the number of iterations.\n",
            "  \"the number of iterations.\", ConvergenceWarning)\n"
          ],
          "name": "stderr"
        },
        {
          "output_type": "stream",
          "text": [
            "[0.98449352 0.98100161 0.98811762]\n",
            "0.9939024390243902\n"
          ],
          "name": "stdout"
        }
      ]
    },
    {
      "cell_type": "markdown",
      "metadata": {
        "id": "GS2QBbT_KpRD"
      },
      "source": [
        "### Naive Bayes"
      ]
    },
    {
      "cell_type": "code",
      "metadata": {
        "id": "Quw6oIfqKPBS"
      },
      "source": [
        "from sklearn.naive_bayes import MultinomialNB\n",
        "\n",
        "clf2 = MultinomialNB()\n",
        "clf2.fit(X_train, y_train)\n",
        "\n",
        "NBpipe = Pipeline(steps=[('Multinomial NB',MultinomialNB())])\n",
        "\n",
        "param_grid = {'alpha': [1,0.9,0.8,0.7,0.6,0.5,0.4,0.3,0.2,0.1]}\n",
        "\n",
        "clf2_GS = GridSearchCV(clf2, param_grid,cv=5,return_train_score=True)\n",
        "clf2_GS.fit(X_train,y_train)"
      ],
      "execution_count": null,
      "outputs": []
    },
    {
      "cell_type": "code",
      "metadata": {
        "colab": {
          "base_uri": "https://localhost:8080/"
        },
        "id": "CkCegzqPGYzd",
        "outputId": "0b781165-0f3f-4ade-9550-2f7457b4c8b6"
      },
      "source": [
        "print(clf2_GS.best_estimator_)"
      ],
      "execution_count": null,
      "outputs": [
        {
          "output_type": "stream",
          "text": [
            "MultinomialNB(alpha=0.1, class_prior=None, fit_prior=True)\n"
          ],
          "name": "stdout"
        }
      ]
    },
    {
      "cell_type": "code",
      "metadata": {
        "colab": {
          "base_uri": "https://localhost:8080/"
        },
        "id": "RpyJScjCFbe3",
        "outputId": "6cf84e83-65b7-4492-8500-67dcc73c8e87"
      },
      "source": [
        "y_pred_NB = clf2_GS.best_estimator_.predict(X_test)\n",
        "\n",
        "print (classification_report(y_test,y_pred_NB))\n",
        "print(cross_val_score(clf2_GS, X_text, df2['flag'], cv=3))\n",
        "print(accuracy_score(y_pred_NB, y_test))\n",
        "\n",
        "scores['Multinomial NB'] = accuracy_score(y_pred_NB, y_test)"
      ],
      "execution_count": null,
      "outputs": [
        {
          "output_type": "stream",
          "text": [
            "              precision    recall  f1-score   support\n",
            "\n",
            "           0       0.96      0.95      0.96      7687\n",
            "           1       0.95      0.96      0.95      7061\n",
            "\n",
            "    accuracy                           0.95     14748\n",
            "   macro avg       0.95      0.95      0.95     14748\n",
            "weighted avg       0.95      0.95      0.95     14748\n",
            "\n",
            "[0.89138753 0.88265306 0.92111976]\n",
            "0.9548413344182262\n"
          ],
          "name": "stdout"
        }
      ]
    },
    {
      "cell_type": "code",
      "metadata": {
        "id": "VKvh74hlCGPy"
      },
      "source": [
        "clf2_GS.fit(X_train2,y_train2)"
      ],
      "execution_count": null,
      "outputs": []
    },
    {
      "cell_type": "code",
      "metadata": {
        "colab": {
          "base_uri": "https://localhost:8080/"
        },
        "id": "ekRC55HgCKeR",
        "outputId": "3f2a0d05-b633-41bf-8e52-902de37d2c86"
      },
      "source": [
        "y_pred_NB2 = clf2_GS.best_estimator_.predict(X_test2)\n",
        "\n",
        "print (classification_report(y_test2,y_pred_NB2))\n",
        "print(cross_val_score(clf2_GS, X_text, df2['flag'], cv=3))\n",
        "print(accuracy_score(y_pred_NB2, y_test2))\n",
        "\n",
        "scores2['Multinomial NB'] = accuracy_score(y_pred_NB2, y_test2)"
      ],
      "execution_count": null,
      "outputs": [
        {
          "output_type": "stream",
          "text": [
            "              precision    recall  f1-score   support\n",
            "\n",
            "           0       0.96      0.95      0.96      4635\n",
            "           1       0.95      0.96      0.96      4303\n",
            "\n",
            "    accuracy                           0.96      8938\n",
            "   macro avg       0.96      0.96      0.96      8938\n",
            "weighted avg       0.96      0.96      0.96      8938\n",
            "\n",
            "[0.89138753 0.88265306 0.92111976]\n",
            "0.9565898411277691\n"
          ],
          "name": "stdout"
        }
      ]
    },
    {
      "cell_type": "code",
      "metadata": {
        "id": "aMStvZP0CKk8",
        "colab": {
          "base_uri": "https://localhost:8080/"
        },
        "outputId": "8ba076ae-8637-4e59-b21d-28f4cd35f488"
      },
      "source": [
        "clf2_GS.fit(X_train3,y_train3)"
      ],
      "execution_count": null,
      "outputs": [
        {
          "output_type": "execute_result",
          "data": {
            "text/plain": [
              "GridSearchCV(cv=5, error_score=nan,\n",
              "             estimator=MultinomialNB(alpha=1.0, class_prior=None,\n",
              "                                     fit_prior=True),\n",
              "             iid='deprecated', n_jobs=None,\n",
              "             param_grid={'alpha': [1, 0.9, 0.8, 0.7, 0.6, 0.5, 0.4, 0.3, 0.2,\n",
              "                                   0.1]},\n",
              "             pre_dispatch='2*n_jobs', refit=True, return_train_score=True,\n",
              "             scoring=None, verbose=0)"
            ]
          },
          "metadata": {
            "tags": []
          },
          "execution_count": 63
        }
      ]
    },
    {
      "cell_type": "code",
      "metadata": {
        "colab": {
          "base_uri": "https://localhost:8080/"
        },
        "id": "58Wc2FPgCKXM",
        "outputId": "6c4926e8-ede8-48ac-df1a-d542bb3a083f"
      },
      "source": [
        "y_pred_NB3 = clf2_GS.best_estimator_.predict(X_test3)\n",
        "\n",
        "print (classification_report(y_test3,y_pred_NB3))\n",
        "print(cross_val_score(clf2_GS, X_text, df2['flag'], cv=3))\n",
        "print(accuracy_score(y_pred_NB3, y_test3))\n",
        "\n",
        "scores3['Multinomial NB'] = accuracy_score(y_pred_NB3, y_test3)"
      ],
      "execution_count": null,
      "outputs": [
        {
          "output_type": "stream",
          "text": [
            "              precision    recall  f1-score   support\n",
            "\n",
            "           0       0.96      0.95      0.96      6999\n",
            "           1       0.95      0.96      0.95      6408\n",
            "\n",
            "    accuracy                           0.95     13407\n",
            "   macro avg       0.95      0.95      0.95     13407\n",
            "weighted avg       0.95      0.95      0.95     13407\n",
            "\n",
            "[0.89138753 0.88265306 0.92111976]\n",
            "0.9539792645632879\n"
          ],
          "name": "stdout"
        }
      ]
    },
    {
      "cell_type": "code",
      "metadata": {
        "id": "JINX7nUICKj4",
        "colab": {
          "base_uri": "https://localhost:8080/"
        },
        "outputId": "b3f63415-daa1-4be0-8bab-2b575f880003"
      },
      "source": [
        "clf2_GS.fit(X_train4,y_train4)"
      ],
      "execution_count": null,
      "outputs": [
        {
          "output_type": "execute_result",
          "data": {
            "text/plain": [
              "GridSearchCV(cv=5, error_score=nan,\n",
              "             estimator=MultinomialNB(alpha=1.0, class_prior=None,\n",
              "                                     fit_prior=True),\n",
              "             iid='deprecated', n_jobs=None,\n",
              "             param_grid={'alpha': [1, 0.9, 0.8, 0.7, 0.6, 0.5, 0.4, 0.3, 0.2,\n",
              "                                   0.1]},\n",
              "             pre_dispatch='2*n_jobs', refit=True, return_train_score=True,\n",
              "             scoring=None, verbose=0)"
            ]
          },
          "metadata": {
            "tags": []
          },
          "execution_count": 65
        }
      ]
    },
    {
      "cell_type": "code",
      "metadata": {
        "colab": {
          "base_uri": "https://localhost:8080/"
        },
        "id": "7qOksZcPCKav",
        "outputId": "19f5d19b-e396-45fd-b302-922608a9aecd"
      },
      "source": [
        "y_pred_NB4 = clf2_GS.best_estimator_.predict(X_test4)\n",
        "\n",
        "print (classification_report(y_test4,y_pred_NB4))\n",
        "print(cross_val_score(clf2_GS, X_text, df2['flag'], cv=3))\n",
        "print(accuracy_score(y_pred_NB4, y_test4))\n",
        "\n",
        "scores4['Multinomial NB'] = accuracy_score(y_pred_NB4, y_test4)"
      ],
      "execution_count": null,
      "outputs": [
        {
          "output_type": "stream",
          "text": [
            "              precision    recall  f1-score   support\n",
            "\n",
            "           0       0.96      0.95      0.95      7003\n",
            "           1       0.95      0.95      0.95      6404\n",
            "\n",
            "    accuracy                           0.95     13407\n",
            "   macro avg       0.95      0.95      0.95     13407\n",
            "weighted avg       0.95      0.95      0.95     13407\n",
            "\n",
            "[0.89138753 0.88265306 0.92111976]\n",
            "0.9511449242932797\n"
          ],
          "name": "stdout"
        }
      ]
    },
    {
      "cell_type": "code",
      "metadata": {
        "id": "Kdg6Eg4RCKgD",
        "colab": {
          "base_uri": "https://localhost:8080/"
        },
        "outputId": "06501560-391e-4ddb-ac8c-bccabf01806b"
      },
      "source": [
        "clf2_GS.fit(X_train5,y_train5)"
      ],
      "execution_count": null,
      "outputs": [
        {
          "output_type": "execute_result",
          "data": {
            "text/plain": [
              "GridSearchCV(cv=5, error_score=nan,\n",
              "             estimator=MultinomialNB(alpha=1.0, class_prior=None,\n",
              "                                     fit_prior=True),\n",
              "             iid='deprecated', n_jobs=None,\n",
              "             param_grid={'alpha': [1, 0.9, 0.8, 0.7, 0.6, 0.5, 0.4, 0.3, 0.2,\n",
              "                                   0.1]},\n",
              "             pre_dispatch='2*n_jobs', refit=True, return_train_score=True,\n",
              "             scoring=None, verbose=0)"
            ]
          },
          "metadata": {
            "tags": []
          },
          "execution_count": 67
        }
      ]
    },
    {
      "cell_type": "code",
      "metadata": {
        "colab": {
          "base_uri": "https://localhost:8080/"
        },
        "id": "O3OqpXh2CKQz",
        "outputId": "528af70f-e2af-49e0-94d2-232ca67e5bad"
      },
      "source": [
        "y_pred_NB5 = clf2_GS.best_estimator_.predict(X_test5)\n",
        "\n",
        "print (classification_report(y_test5,y_pred_NB5))\n",
        "print(cross_val_score(clf2_GS, X_text, df2['flag'], cv=3))\n",
        "print(accuracy_score(y_pred_NB5, y_test5))\n",
        "\n",
        "scores5['Multinomial NB'] = accuracy_score(y_pred_NB5, y_test5)"
      ],
      "execution_count": null,
      "outputs": [
        {
          "output_type": "stream",
          "text": [
            "              precision    recall  f1-score   support\n",
            "\n",
            "           0       0.96      0.95      0.95      9337\n",
            "           1       0.94      0.96      0.95      8539\n",
            "\n",
            "    accuracy                           0.95     17876\n",
            "   macro avg       0.95      0.95      0.95     17876\n",
            "weighted avg       0.95      0.95      0.95     17876\n",
            "\n",
            "[0.89138753 0.88265306 0.92111976]\n",
            "0.9526180353546655\n"
          ],
          "name": "stdout"
        }
      ]
    },
    {
      "cell_type": "markdown",
      "metadata": {
        "id": "2NHoAfvBKsej"
      },
      "source": [
        "### XGBoost"
      ]
    },
    {
      "cell_type": "code",
      "metadata": {
        "id": "3G6V7fYIKUB2"
      },
      "source": [
        "from xgboost import XGBClassifier\n",
        "\n",
        "clf3 = XGBClassifier(eval_metric='rmse', use_label_encoder=False)\n",
        "clf3.fit(X_train, y_train)\n",
        "\n",
        "XGBpipe = Pipeline([('XGBoost',XGBClassifier())])\n",
        "\n",
        "param_grid = {'max_depth': [10,20,30]}       \n",
        "\n",
        "clf3_GS = GridSearchCV(clf3_GS, param_grid,cv=5,return_train_score=True)\n",
        "clf3_GS.fit(X_train,y_train)"
      ],
      "execution_count": null,
      "outputs": []
    },
    {
      "cell_type": "code",
      "metadata": {
        "colab": {
          "base_uri": "https://localhost:8080/"
        },
        "id": "1-sB9mimnyMU",
        "outputId": "21293d8d-ac1f-4907-f4a7-fa9cb4f8de88"
      },
      "source": [
        "print(clf3_GS.best_estimator_)"
      ],
      "execution_count": null,
      "outputs": [
        {
          "output_type": "stream",
          "text": [
            "XGBClassifier(base_score=0.5, booster='gbtree', colsample_bylevel=1,\n",
            "              colsample_bynode=1, colsample_bytree=1, eval_metric='rmse',\n",
            "              gamma=0, learning_rate=0.1, max_delta_step=0, max_depth=10,\n",
            "              min_child_weight=1, missing=None, n_estimators=100, n_jobs=1,\n",
            "              nthread=None, objective='binary:logistic', random_state=0,\n",
            "              reg_alpha=0, reg_lambda=1, scale_pos_weight=1, seed=None,\n",
            "              silent=None, subsample=1, use_label_encoder=False, verbosity=1)\n"
          ],
          "name": "stdout"
        }
      ]
    },
    {
      "cell_type": "code",
      "metadata": {
        "colab": {
          "base_uri": "https://localhost:8080/"
        },
        "id": "l445YzGkJhXQ",
        "outputId": "edf0cf88-bd88-4330-a9e8-34c0e4c3807d"
      },
      "source": [
        "y_pred_XGB = clf3_GS.best_estimator_.predict(X_test)\n",
        "\n",
        "print (classification_report(y_test,y_pred_XGB))\n",
        "print(cross_val_score(clf3_GS, X_text, df2['flag'], cv=3))\n",
        "print(accuracy_score(y_pred_XGB, y_test))\n",
        "\n",
        "scores['XGB'] = accuracy_score(y_pred_XGB, y_test)"
      ],
      "execution_count": null,
      "outputs": [
        {
          "output_type": "stream",
          "text": [
            "              precision    recall  f1-score   support\n",
            "\n",
            "           0       0.99      0.99      0.99      7687\n",
            "           1       0.99      0.99      0.99      7061\n",
            "\n",
            "    accuracy                           0.99     14748\n",
            "   macro avg       0.99      0.99      0.99     14748\n",
            "weighted avg       0.99      0.99      0.99     14748\n",
            "\n",
            "[0.9730147  0.98053169 0.98489527]\n",
            "0.9914564686737185\n"
          ],
          "name": "stdout"
        }
      ]
    },
    {
      "cell_type": "code",
      "metadata": {
        "id": "EaPJJZOOCwH5"
      },
      "source": [
        "clf3_GS.fit(X_train2,y_train2)"
      ],
      "execution_count": null,
      "outputs": []
    },
    {
      "cell_type": "code",
      "metadata": {
        "colab": {
          "base_uri": "https://localhost:8080/"
        },
        "id": "9_r6YQpWCv2D",
        "outputId": "2c4a3d00-7a1a-4330-e898-5ecf6f44dd79"
      },
      "source": [
        "y_pred_XGB2 = clf3_GS.best_estimator_.predict(X_test2)\n",
        "\n",
        "print (classification_report(y_test2,y_pred_XGB2))\n",
        "print(cross_val_score(clf3_GS, X_text, df2['flag'], cv=3))\n",
        "print(accuracy_score(y_pred_XGB2, y_test2))\n",
        "\n",
        "scores2['XGB'] = accuracy_score(y_pred_XGB2, y_test2)"
      ],
      "execution_count": null,
      "outputs": [
        {
          "output_type": "stream",
          "text": [
            "              precision    recall  f1-score   support\n",
            "\n",
            "           0       0.99      1.00      0.99      4635\n",
            "           1       0.99      0.99      0.99      4303\n",
            "\n",
            "    accuracy                           0.99      8938\n",
            "   macro avg       0.99      0.99      0.99      8938\n",
            "weighted avg       0.99      0.99      0.99      8938\n",
            "\n",
            "[0.9730147  0.98053169 0.98489527]\n",
            "0.9919445066010293\n"
          ],
          "name": "stdout"
        }
      ]
    },
    {
      "cell_type": "code",
      "metadata": {
        "id": "xvXxT4X2CwDn"
      },
      "source": [
        "clf3_GS.fit(X_train3,y_train3)"
      ],
      "execution_count": null,
      "outputs": []
    },
    {
      "cell_type": "code",
      "metadata": {
        "colab": {
          "base_uri": "https://localhost:8080/"
        },
        "id": "OsAqOvl3Cvy2",
        "outputId": "beaf707f-02ed-49db-ff1c-fa49567dcb33"
      },
      "source": [
        "y_pred_XGB3 = clf3_GS.best_estimator_.predict(X_test3)\n",
        "\n",
        "print (classification_report(y_test3,y_pred_XGB3))\n",
        "print(cross_val_score(clf3_GS, X_text, df2['flag'], cv=3))\n",
        "print(accuracy_score(y_pred_XGB3, y_test3))\n",
        "\n",
        "scores3['XGB'] = accuracy_score(y_pred_XGB3, y_test3)"
      ],
      "execution_count": null,
      "outputs": [
        {
          "output_type": "stream",
          "text": [
            "              precision    recall  f1-score   support\n",
            "\n",
            "           0       0.99      0.99      0.99      6999\n",
            "           1       0.99      0.99      0.99      6408\n",
            "\n",
            "    accuracy                           0.99     13407\n",
            "   macro avg       0.99      0.99      0.99     13407\n",
            "weighted avg       0.99      0.99      0.99     13407\n",
            "\n",
            "[0.9730147  0.98053169 0.98489527]\n",
            "0.9914969791899754\n"
          ],
          "name": "stdout"
        }
      ]
    },
    {
      "cell_type": "code",
      "metadata": {
        "id": "yliMag9vCv-R"
      },
      "source": [
        "clf3_GS.fit(X_train4,y_train4)"
      ],
      "execution_count": null,
      "outputs": []
    },
    {
      "cell_type": "code",
      "metadata": {
        "colab": {
          "base_uri": "https://localhost:8080/"
        },
        "id": "M9DEB4-qCvwO",
        "outputId": "c1df67b2-ec11-479e-d15d-fa36abd52a5d"
      },
      "source": [
        "y_pred_XGB4 = clf3_GS.best_estimator_.predict(X_test4)\n",
        "\n",
        "print (classification_report(y_test4,y_pred_XGB4))\n",
        "print(cross_val_score(clf3_GS, X_text, df2['flag'], cv=3))\n",
        "print(accuracy_score(y_pred_XGB4, y_test4))\n",
        "\n",
        "scores4['XGB'] = accuracy_score(y_pred_XGB4, y_test4)"
      ],
      "execution_count": null,
      "outputs": [
        {
          "output_type": "stream",
          "text": [
            "              precision    recall  f1-score   support\n",
            "\n",
            "           0       0.99      1.00      0.99      7003\n",
            "           1       1.00      0.99      0.99      6404\n",
            "\n",
            "    accuracy                           0.99     13407\n",
            "   macro avg       0.99      0.99      0.99     13407\n",
            "weighted avg       0.99      0.99      0.99     13407\n",
            "\n",
            "[0.9730147  0.98053169 0.98489527]\n",
            "0.9921682703065563\n"
          ],
          "name": "stdout"
        }
      ]
    },
    {
      "cell_type": "code",
      "metadata": {
        "id": "GlpOFwL4Cv7I"
      },
      "source": [
        "clf3_GS.fit(X_train5,y_train5)"
      ],
      "execution_count": null,
      "outputs": []
    },
    {
      "cell_type": "code",
      "metadata": {
        "colab": {
          "base_uri": "https://localhost:8080/"
        },
        "id": "z51Xnt3kCvtF",
        "outputId": "5d30a223-2be4-4b90-95ce-264834da90b1"
      },
      "source": [
        "y_pred_XGB5 = clf3_GS.best_estimator_.predict(X_test5)\n",
        "\n",
        "print (classification_report(y_test5,y_pred_XGB5))\n",
        "print(cross_val_score(clf3_GS, X_text, df2['flag'], cv=3))\n",
        "print(accuracy_score(y_pred_XGB5, y_test5))\n",
        "\n",
        "scores5['XGB'] = accuracy_score(y_pred_XGB5, y_test5)"
      ],
      "execution_count": null,
      "outputs": [
        {
          "output_type": "stream",
          "text": [
            "              precision    recall  f1-score   support\n",
            "\n",
            "           0       0.99      0.99      0.99      9337\n",
            "           1       0.99      0.99      0.99      8539\n",
            "\n",
            "    accuracy                           0.99     17876\n",
            "   macro avg       0.99      0.99      0.99     17876\n",
            "weighted avg       0.99      0.99      0.99     17876\n",
            "\n",
            "[0.9730147  0.98053169 0.98489527]\n",
            "0.990713806220631\n"
          ],
          "name": "stdout"
        }
      ]
    },
    {
      "cell_type": "markdown",
      "metadata": {
        "id": "RqSrvsiZT0sr"
      },
      "source": [
        "### Random Forest"
      ]
    },
    {
      "cell_type": "code",
      "metadata": {
        "colab": {
          "base_uri": "https://localhost:8080/"
        },
        "id": "6VhEUSHpTwSQ",
        "outputId": "28591eb7-29ba-442d-b0a9-ebbbdc63a5f8"
      },
      "source": [
        "from sklearn.ensemble import RandomForestClassifier\n",
        "\n",
        "clf4 = RandomForestClassifier()\n",
        "clf4.fit(X_train, y_train)\n",
        "\n",
        "y_pred_RF = clf4.predict(X_test)\n",
        "print(classification_report(y_test,y_pred_RF))\n",
        "print(cross_val_score(clf4, X_text, df2['flag'], cv=3))\n",
        "print(accuracy_score(y_pred_RF, y_test))\n",
        "\n",
        "scores['RandomForest'] = accuracy_score(y_pred_RF, y_test)"
      ],
      "execution_count": null,
      "outputs": [
        {
          "output_type": "stream",
          "text": [
            "              precision    recall  f1-score   support\n",
            "\n",
            "           0       0.99      0.99      0.99      7687\n",
            "           1       0.99      0.99      0.99      7061\n",
            "\n",
            "    accuracy                           0.99     14748\n",
            "   macro avg       0.99      0.99      0.99     14748\n",
            "weighted avg       0.99      0.99      0.99     14748\n",
            "\n",
            "[0.98227831 0.96012352 0.97079753]\n",
            "0.9889476539191755\n"
          ],
          "name": "stdout"
        }
      ]
    },
    {
      "cell_type": "code",
      "metadata": {
        "colab": {
          "base_uri": "https://localhost:8080/"
        },
        "id": "xWOZD-crDPgy",
        "outputId": "7b8212c8-3844-4d05-d798-8e5ea07f6e8f"
      },
      "source": [
        "clf4.fit(X_train2, y_train2)\n",
        "\n",
        "y_pred_RF2 = clf4.predict(X_test2)\n",
        "print(classification_report(y_test2,y_pred_RF2))\n",
        "print(cross_val_score(clf4, X_text, df2['flag'], cv=3))\n",
        "print(accuracy_score(y_pred_RF2, y_test2))\n",
        "\n",
        "scores2['RandomForest'] = accuracy_score(y_pred_RF2, y_test2)"
      ],
      "execution_count": null,
      "outputs": [
        {
          "output_type": "stream",
          "text": [
            "              precision    recall  f1-score   support\n",
            "\n",
            "           0       0.99      0.99      0.99      4635\n",
            "           1       0.99      0.99      0.99      4303\n",
            "\n",
            "    accuracy                           0.99      8938\n",
            "   macro avg       0.99      0.99      0.99      8938\n",
            "weighted avg       0.99      0.99      0.99      8938\n",
            "\n",
            "[0.97986172 0.96603115 0.97180451]\n",
            "0.9898187513985232\n"
          ],
          "name": "stdout"
        }
      ]
    },
    {
      "cell_type": "code",
      "metadata": {
        "colab": {
          "base_uri": "https://localhost:8080/"
        },
        "id": "vGLS93fgDW-j",
        "outputId": "eeefd3cb-0e73-419a-a9b6-dce9e9f2a0a3"
      },
      "source": [
        "clf4.fit(X_train3, y_train3)\n",
        "\n",
        "y_pred_RF3 = clf4.predict(X_test3)\n",
        "print(classification_report(y_test3,y_pred_RF3))\n",
        "print(cross_val_score(clf4, X_text, df2['flag'], cv=3))\n",
        "print(accuracy_score(y_pred_RF3, y_test3))\n",
        "\n",
        "scores3['RandomForest'] = accuracy_score(y_pred_RF3, y_test3)"
      ],
      "execution_count": null,
      "outputs": [
        {
          "output_type": "stream",
          "text": [
            "              precision    recall  f1-score   support\n",
            "\n",
            "           0       0.99      0.99      0.99      6999\n",
            "           1       0.99      0.99      0.99      6408\n",
            "\n",
            "    accuracy                           0.99     13407\n",
            "   macro avg       0.99      0.99      0.99     13407\n",
            "weighted avg       0.99      0.99      0.99     13407\n",
            "\n",
            "[0.98100289 0.9594522  0.97113319]\n",
            "0.9882896994107556\n"
          ],
          "name": "stdout"
        }
      ]
    },
    {
      "cell_type": "code",
      "metadata": {
        "colab": {
          "base_uri": "https://localhost:8080/"
        },
        "id": "_kNkpvhzDW32",
        "outputId": "01d92fea-feca-4e7a-8109-ac1591c556a1"
      },
      "source": [
        "clf4.fit(X_train4, y_train4)\n",
        "\n",
        "y_pred_RF4 = clf4.predict(X_test4)\n",
        "print(classification_report(y_test4,y_pred_RF4))\n",
        "print(cross_val_score(clf4, X_text, df2['flag'], cv=3))\n",
        "print(accuracy_score(y_pred_RF4, y_test4))\n",
        "\n",
        "scores4['RandomForest'] = accuracy_score(y_pred_RF4, y_test4)"
      ],
      "execution_count": null,
      "outputs": [
        {
          "output_type": "stream",
          "text": [
            "              precision    recall  f1-score   support\n",
            "\n",
            "           0       0.99      0.99      0.99      7003\n",
            "           1       0.99      0.99      0.99      6404\n",
            "\n",
            "    accuracy                           0.99     13407\n",
            "   macro avg       0.99      0.99      0.99     13407\n",
            "weighted avg       0.99      0.99      0.99     13407\n",
            "\n",
            "[0.9827482  0.96609828 0.97294576]\n",
            "0.9877675840978594\n"
          ],
          "name": "stdout"
        }
      ]
    },
    {
      "cell_type": "code",
      "metadata": {
        "colab": {
          "base_uri": "https://localhost:8080/"
        },
        "id": "YVNVdGP6DWxd",
        "outputId": "cdb44aca-6a4a-40a6-a663-50ed072dc838"
      },
      "source": [
        "clf4.fit(X_train5, y_train5)\n",
        "\n",
        "y_pred_RF5 = clf4.predict(X_test5)\n",
        "print(classification_report(y_test5,y_pred_RF5))\n",
        "print(cross_val_score(clf4, X_text, df2['flag'], cv=3))\n",
        "print(accuracy_score(y_pred_RF5, y_test5))\n",
        "\n",
        "scores5['RandomForest'] = accuracy_score(y_pred_RF5, y_test5)"
      ],
      "execution_count": null,
      "outputs": [
        {
          "output_type": "stream",
          "text": [
            "              precision    recall  f1-score   support\n",
            "\n",
            "           0       0.99      0.99      0.99      9337\n",
            "           1       0.98      0.99      0.99      8539\n",
            "\n",
            "    accuracy                           0.99     17876\n",
            "   macro avg       0.99      0.99      0.99     17876\n",
            "weighted avg       0.99      0.99      0.99     17876\n",
            "\n",
            "[0.9812714  0.96945489 0.97234157]\n",
            "0.9882524054598344\n"
          ],
          "name": "stdout"
        }
      ]
    },
    {
      "cell_type": "markdown",
      "metadata": {
        "id": "hFSMw5cecGjO"
      },
      "source": [
        "### Logistic Regression"
      ]
    },
    {
      "cell_type": "code",
      "metadata": {
        "id": "noWE8NwjsIZc"
      },
      "source": [
        "from sklearn.linear_model import LogisticRegression\n",
        "\n",
        "clf5 = LogisticRegression()\n",
        "clf5.fit(X_train, y_train)\n",
        "\n",
        "LRpipe = Pipeline(steps=[('logistic_Reg', LogisticRegression(solver='liblinear'))])\n",
        "\n",
        "C = np.logspace(-4, 4, 50)\n",
        "\n",
        "parameters = dict(logistic_Reg__C=C)\n",
        "                  \n",
        "clf5_GS = GridSearchCV(LRpipe, parameters)\n",
        "clf5_GS.fit(X_train, y_train)"
      ],
      "execution_count": null,
      "outputs": []
    },
    {
      "cell_type": "code",
      "metadata": {
        "colab": {
          "base_uri": "https://localhost:8080/"
        },
        "id": "OoTWgGhRtCKp",
        "outputId": "47cf4af7-a54b-4cc5-994f-c760fe4061c9"
      },
      "source": [
        "print(clf5_GS.best_estimator)"
      ],
      "execution_count": null,
      "outputs": [
        {
          "output_type": "stream",
          "text": [
            "LogisticRegression(C=10000.0, class_weight=None, dual=False, fit_intercept=True,\n",
            "                   intercept_scaling=1, l1_ratio=None, max_iter=100,\n",
            "                   multi_class='auto', n_jobs=None, penalty='l2',\n",
            "                   random_state=None, solver='liblinear', tol=0.0001, verbose=0,\n",
            "                   warm_start=False)\n"
          ],
          "name": "stdout"
        }
      ]
    },
    {
      "cell_type": "code",
      "metadata": {
        "colab": {
          "base_uri": "https://localhost:8080/"
        },
        "id": "LGV_PrdSt1KL",
        "outputId": "0bcdf0ac-8e72-485c-e6b7-45e69730ee6c"
      },
      "source": [
        "y_pred_LR = clf5_GS.predict(X_test)\n",
        "print(classification_report(y_test,y_pred_LR))\n",
        "print(cross_val_score(clf5_GS, X_text, df2['flag'], cv=3))\n",
        "print(accuracy_score(y_pred_LR, y_test))\n",
        "\n",
        "scores['LogisticRegression'] = accuracy_score(y_pred_LR, y_test)"
      ],
      "execution_count": null,
      "outputs": [
        {
          "output_type": "stream",
          "text": [
            "              precision    recall  f1-score   support\n",
            "\n",
            "           0       1.00      0.99      0.99      7687\n",
            "           1       0.99      1.00      0.99      7061\n",
            "\n",
            "    accuracy                           0.99     14748\n",
            "   macro avg       0.99      0.99      0.99     14748\n",
            "weighted avg       0.99      0.99      0.99     14748\n",
            "\n",
            "[0.98268108 0.98174006 0.98852041]\n",
            "0.9940330892324383\n"
          ],
          "name": "stdout"
        }
      ]
    },
    {
      "cell_type": "code",
      "metadata": {
        "id": "wsrekWvpD1Lb"
      },
      "source": [
        "clf5_GS.fit(X_train2, y_train2)"
      ],
      "execution_count": null,
      "outputs": []
    },
    {
      "cell_type": "code",
      "metadata": {
        "colab": {
          "base_uri": "https://localhost:8080/"
        },
        "id": "2kew2K7fD1Br",
        "outputId": "8e6a4c50-c6da-40f2-8b06-b9869d947a27"
      },
      "source": [
        "y_pred_LR2 = clf5_GS.predict(X_test2)\n",
        "print(classification_report(y_test2,y_pred_LR2))\n",
        "print(cross_val_score(clf5_GS, X_text, df2['flag'], cv=3))\n",
        "print(accuracy_score(y_pred_LR2, y_test2))\n",
        "\n",
        "scores2['LogisticRegression'] = accuracy_score(y_pred_LR2, y_test2)"
      ],
      "execution_count": null,
      "outputs": [
        {
          "output_type": "stream",
          "text": [
            "              precision    recall  f1-score   support\n",
            "\n",
            "           0       1.00      1.00      1.00      4635\n",
            "           1       0.99      1.00      1.00      4303\n",
            "\n",
            "    accuracy                           1.00      8938\n",
            "   macro avg       1.00      1.00      1.00      8938\n",
            "weighted avg       1.00      1.00      1.00      8938\n",
            "\n",
            "[0.98268108 0.98174006 0.98852041]\n",
            "0.9951890803311703\n"
          ],
          "name": "stdout"
        }
      ]
    },
    {
      "cell_type": "code",
      "metadata": {
        "id": "30nuWMpED1JV"
      },
      "source": [
        "clf5_GS.fit(X_train3, y_train3)"
      ],
      "execution_count": null,
      "outputs": []
    },
    {
      "cell_type": "code",
      "metadata": {
        "colab": {
          "base_uri": "https://localhost:8080/"
        },
        "id": "LlMTL04eD0_I",
        "outputId": "9f529308-6cd5-4cb8-9d0a-4cc0aabd1377"
      },
      "source": [
        "y_pred_LR3 = clf5_GS.predict(X_test3)\n",
        "print(classification_report(y_test3,y_pred_LR3))\n",
        "print(cross_val_score(clf5_GS, X_text, df2['flag'], cv=3))\n",
        "print(accuracy_score(y_pred_LR3, y_test3))\n",
        "\n",
        "scores3['LogisticRegression'] = accuracy_score(y_pred_LR3, y_test3)"
      ],
      "execution_count": null,
      "outputs": [
        {
          "output_type": "stream",
          "text": [
            "              precision    recall  f1-score   support\n",
            "\n",
            "           0       1.00      0.99      0.99      6999\n",
            "           1       0.99      0.99      0.99      6408\n",
            "\n",
            "    accuracy                           0.99     13407\n",
            "   macro avg       0.99      0.99      0.99     13407\n",
            "weighted avg       0.99      0.99      0.99     13407\n",
            "\n",
            "[0.98268108 0.98174006 0.98852041]\n",
            "0.9940329678526143\n"
          ],
          "name": "stdout"
        }
      ]
    },
    {
      "cell_type": "code",
      "metadata": {
        "id": "7cboK4vaD1G5"
      },
      "source": [
        "clf5_GS.fit(X_train4, y_train4)"
      ],
      "execution_count": null,
      "outputs": []
    },
    {
      "cell_type": "code",
      "metadata": {
        "colab": {
          "base_uri": "https://localhost:8080/"
        },
        "id": "eTwZCRaRD-bS",
        "outputId": "311d095f-a5b0-4763-f189-3c36e2408dc8"
      },
      "source": [
        "y_pred_LR4 = clf5_GS.predict(X_test4)\n",
        "print(classification_report(y_test4,y_pred_LR4))\n",
        "print(cross_val_score(clf5_GS, X_text, df2['flag'], cv=3))\n",
        "print(accuracy_score(y_pred_LR4, y_test4))\n",
        "\n",
        "scores4['LogisticRegression'] = accuracy_score(y_pred_LR4, y_test4)"
      ],
      "execution_count": null,
      "outputs": [
        {
          "output_type": "stream",
          "text": [
            "              precision    recall  f1-score   support\n",
            "\n",
            "           0       0.99      1.00      0.99      7003\n",
            "           1       0.99      0.99      0.99      6404\n",
            "\n",
            "    accuracy                           0.99     13407\n",
            "   macro avg       0.99      0.99      0.99     13407\n",
            "weighted avg       0.99      0.99      0.99     13407\n",
            "\n",
            "[0.98268108 0.98174006 0.98852041]\n",
            "0.9944059073618259\n"
          ],
          "name": "stdout"
        }
      ]
    },
    {
      "cell_type": "code",
      "metadata": {
        "id": "PFIFtfRUD1EV"
      },
      "source": [
        "clf5_GS.fit(X_train5, y_train5)"
      ],
      "execution_count": null,
      "outputs": []
    },
    {
      "cell_type": "code",
      "metadata": {
        "colab": {
          "base_uri": "https://localhost:8080/"
        },
        "id": "sFvh0605D-58",
        "outputId": "62e2e3c0-28c8-46d2-9dbd-df8fb0ff7f7f"
      },
      "source": [
        "y_pred_LR5 = clf5_GS.predict(X_test5)\n",
        "print(classification_report(y_test5,y_pred_LR5))\n",
        "print(cross_val_score(clf5_GS, X_text, df2['flag'], cv=3))\n",
        "print(accuracy_score(y_pred_LR5, y_test5))\n",
        "\n",
        "scores5['LogisticRegression'] = accuracy_score(y_pred_LR5, y_test5)"
      ],
      "execution_count": null,
      "outputs": [
        {
          "output_type": "stream",
          "text": [
            "              precision    recall  f1-score   support\n",
            "\n",
            "           0       0.99      0.99      0.99      9337\n",
            "           1       0.99      0.99      0.99      8539\n",
            "\n",
            "    accuracy                           0.99     17876\n",
            "   macro avg       0.99      0.99      0.99     17876\n",
            "weighted avg       0.99      0.99      0.99     17876\n",
            "\n",
            "[0.98268108 0.98174006 0.98852041]\n",
            "0.9942380845826807\n"
          ],
          "name": "stdout"
        }
      ]
    },
    {
      "cell_type": "markdown",
      "metadata": {
        "id": "0qbUlgZ7XBSf"
      },
      "source": [
        "### Decision Tree"
      ]
    },
    {
      "cell_type": "code",
      "metadata": {
        "id": "GJ2-P-0rXFmm"
      },
      "source": [
        "from sklearn.tree import DecisionTreeClassifier\n",
        "\n",
        "clf6 = DecisionTreeClassifier()\n",
        "clf6.fit(X_train,y_train)\n",
        "\n",
        "DTpipe = Pipeline(steps=[('Decision Tree',DecisionTreeClassifier())])\n",
        "\n",
        "param_grid = {'min_samples_split': [2, 4, 6]}\n",
        "\n",
        "clf6_GS = GridSearchCV(clf6, param_grid,cv=5,return_train_score=True)\n",
        "clf6_GS.fit(X_train,y_train)"
      ],
      "execution_count": null,
      "outputs": []
    },
    {
      "cell_type": "code",
      "metadata": {
        "colab": {
          "base_uri": "https://localhost:8080/"
        },
        "id": "HxFbxoE6zWsN",
        "outputId": "ee85e61d-e298-4b31-e2e9-3b5f4da288ec"
      },
      "source": [
        "print(clf6_GS.best_estimator_)"
      ],
      "execution_count": null,
      "outputs": [
        {
          "output_type": "stream",
          "text": [
            "DecisionTreeClassifier(ccp_alpha=0.0, class_weight=None, criterion='gini',\n",
            "                       max_depth=None, max_features=None, max_leaf_nodes=None,\n",
            "                       min_impurity_decrease=0.0, min_impurity_split=None,\n",
            "                       min_samples_leaf=1, min_samples_split=2,\n",
            "                       min_weight_fraction_leaf=0.0, presort='deprecated',\n",
            "                       random_state=None, splitter='best')\n"
          ],
          "name": "stdout"
        }
      ]
    },
    {
      "cell_type": "code",
      "metadata": {
        "colab": {
          "base_uri": "https://localhost:8080/"
        },
        "id": "9gIj9knNQgjy",
        "outputId": "434886d1-b9c4-4d2f-f9bf-e63a425031b2"
      },
      "source": [
        "y_pred_DT = clf6_GS.predict(X_test)\n",
        "print(classification_report(y_test,y_pred_DT))\n",
        "print(cross_val_score(clf6_GS, X_text, df2['flag'], cv=3))\n",
        "print(accuracy_score(y_pred_DT, y_test))\n",
        "\n",
        "scores['Decision Tree'] = accuracy_score(y_pred_DT, y_test)"
      ],
      "execution_count": null,
      "outputs": [
        {
          "output_type": "stream",
          "text": [
            "              precision    recall  f1-score   support\n",
            "\n",
            "           0       0.98      0.99      0.98      7687\n",
            "           1       0.98      0.97      0.98      7061\n",
            "\n",
            "    accuracy                           0.98     14748\n",
            "   macro avg       0.98      0.98      0.98     14748\n",
            "weighted avg       0.98      0.98      0.98     14748\n",
            "\n",
            "[0.95958918 0.97200591 0.98093448]\n",
            "0.9801328993761866\n"
          ],
          "name": "stdout"
        }
      ]
    },
    {
      "cell_type": "code",
      "metadata": {
        "id": "k0Fcvdy4EVwD"
      },
      "source": [
        "clf6_GS.fit(X_train2,y_train2)"
      ],
      "execution_count": null,
      "outputs": []
    },
    {
      "cell_type": "code",
      "metadata": {
        "colab": {
          "base_uri": "https://localhost:8080/"
        },
        "id": "1tnMWz-JEVts",
        "outputId": "95723e41-133d-4180-b5cc-201e9a1faa2e"
      },
      "source": [
        "y_pred_DT2 = clf6_GS.predict(X_test2)\n",
        "print(classification_report(y_test2,y_pred_DT2))\n",
        "print(cross_val_score(clf6_GS, X_text, df2['flag'], cv=3))\n",
        "print(accuracy_score(y_pred_DT2, y_test2))\n",
        "\n",
        "scores2['Decision Tree'] = accuracy_score(y_pred_DT2, y_test2)"
      ],
      "execution_count": null,
      "outputs": [
        {
          "output_type": "stream",
          "text": [
            "              precision    recall  f1-score   support\n",
            "\n",
            "           0       0.98      0.98      0.98      4635\n",
            "           1       0.98      0.98      0.98      4303\n",
            "\n",
            "    accuracy                           0.98      8938\n",
            "   macro avg       0.98      0.98      0.98      8938\n",
            "weighted avg       0.98      0.98      0.98      8938\n",
            "\n",
            "[0.95945492 0.97482546 0.98127014]\n",
            "0.9807563213246812\n"
          ],
          "name": "stdout"
        }
      ]
    },
    {
      "cell_type": "code",
      "metadata": {
        "id": "4_cG89NhEVrV"
      },
      "source": [
        "clf6_GS.fit(X_train3,y_train3)"
      ],
      "execution_count": null,
      "outputs": []
    },
    {
      "cell_type": "code",
      "metadata": {
        "colab": {
          "base_uri": "https://localhost:8080/"
        },
        "id": "gYIS9dPlEVof",
        "outputId": "a9c65875-fc5e-4536-e82b-cae45dc44381"
      },
      "source": [
        "y_pred_DT3 = clf6_GS.predict(X_test3)\n",
        "print(classification_report(y_test3,y_pred_DT3))\n",
        "print(cross_val_score(clf6_GS, X_text, df2['flag'], cv=3))\n",
        "print(accuracy_score(y_pred_DT3, y_test3))\n",
        "\n",
        "scores3['Decision Tree'] = accuracy_score(y_pred_DT3, y_test3)"
      ],
      "execution_count": null,
      "outputs": [
        {
          "output_type": "stream",
          "text": [
            "              precision    recall  f1-score   support\n",
            "\n",
            "           0       0.98      0.99      0.98      6999\n",
            "           1       0.98      0.97      0.98      6408\n",
            "\n",
            "    accuracy                           0.98     13407\n",
            "   macro avg       0.98      0.98      0.98     13407\n",
            "weighted avg       0.98      0.98      0.98     13407\n",
            "\n",
            "[0.95992482 0.97341568 0.98187433]\n",
            "0.9804579697173118\n"
          ],
          "name": "stdout"
        }
      ]
    },
    {
      "cell_type": "code",
      "metadata": {
        "id": "S84MtZ3eEVld"
      },
      "source": [
        "clf6_GS.fit(X_train4,y_train4)"
      ],
      "execution_count": null,
      "outputs": []
    },
    {
      "cell_type": "code",
      "metadata": {
        "colab": {
          "base_uri": "https://localhost:8080/"
        },
        "id": "M9IkkXqyEVg-",
        "outputId": "3cb3e462-01a5-4b1b-84ce-f74c06428695"
      },
      "source": [
        "y_pred_DT4 = clf6_GS.predict(X_test4)\n",
        "print(classification_report(y_test4,y_pred_DT4))\n",
        "print(cross_val_score(clf6_GS, X_text, df2['flag'], cv=3))\n",
        "print(accuracy_score(y_pred_DT4, y_test4))\n",
        "\n",
        "scores4['Decision Tree'] = accuracy_score(y_pred_DT4, y_test4)"
      ],
      "execution_count": null,
      "outputs": [
        {
          "output_type": "stream",
          "text": [
            "              precision    recall  f1-score   support\n",
            "\n",
            "           0       0.98      0.98      0.98      7003\n",
            "           1       0.98      0.98      0.98      6404\n",
            "\n",
            "    accuracy                           0.98     13407\n",
            "   macro avg       0.98      0.98      0.98     13407\n",
            "weighted avg       0.98      0.98      0.98     13407\n",
            "\n",
            "[0.95878365 0.97334855 0.98207573]\n",
            "0.9821734914596852\n"
          ],
          "name": "stdout"
        }
      ]
    },
    {
      "cell_type": "code",
      "metadata": {
        "id": "6o8TFmobEYQ2"
      },
      "source": [
        "clf6_GS.fit(X_train5,y_train5)"
      ],
      "execution_count": null,
      "outputs": []
    },
    {
      "cell_type": "code",
      "metadata": {
        "colab": {
          "base_uri": "https://localhost:8080/"
        },
        "id": "_cV86No7EYJA",
        "outputId": "544bb427-8f54-4f03-f6f9-a20a695b67e5"
      },
      "source": [
        "y_pred_DT5 = clf6_GS.predict(X_test5)\n",
        "print(classification_report(y_test5,y_pred_DT5))\n",
        "print(cross_val_score(clf6_GS, X_text, df2['flag'], cv=3))\n",
        "print(accuracy_score(y_pred_DT5, y_test5))\n",
        "\n",
        "scores5['Decision Tree'] = accuracy_score(y_pred_DT5, y_test5)"
      ],
      "execution_count": null,
      "outputs": [
        {
          "output_type": "stream",
          "text": [
            "              precision    recall  f1-score   support\n",
            "\n",
            "           0       0.98      0.98      0.98      9337\n",
            "           1       0.98      0.97      0.98      8539\n",
            "\n",
            "    accuracy                           0.98     17876\n",
            "   macro avg       0.98      0.98      0.98     17876\n",
            "weighted avg       0.98      0.98      0.98     17876\n",
            "\n",
            "[0.95858226 0.97207304 0.98174006]\n",
            "0.9794137390915194\n"
          ],
          "name": "stdout"
        }
      ]
    },
    {
      "cell_type": "markdown",
      "metadata": {
        "id": "FV8vtbmymjuB"
      },
      "source": [
        "### Results"
      ]
    },
    {
      "cell_type": "code",
      "metadata": {
        "colab": {
          "base_uri": "https://localhost:8080/"
        },
        "id": "XHo8emFQdvPq",
        "outputId": "e57b6cc2-ed4e-45f1-8bdc-42ccb0ca78ff"
      },
      "source": [
        "scores"
      ],
      "execution_count": null,
      "outputs": [
        {
          "output_type": "execute_result",
          "data": {
            "text/plain": [
              "{'Decision Tree': 0.9801328993761866,\n",
              " 'LinearSVC': 0.9938974776240846,\n",
              " 'LogisticRegression': 0.9940330892324383,\n",
              " 'Multinomial NB': 0.9548413344182262,\n",
              " 'RandomForest': 0.9889476539191755,\n",
              " 'XGB': 0.9914564686737185}"
            ]
          },
          "metadata": {
            "tags": []
          },
          "execution_count": 100
        }
      ]
    },
    {
      "cell_type": "code",
      "metadata": {
        "colab": {
          "base_uri": "https://localhost:8080/"
        },
        "id": "9yDpvQWRAov-",
        "outputId": "43fc7d59-065e-4bf8-9221-af0aa704b37a"
      },
      "source": [
        "scores2"
      ],
      "execution_count": null,
      "outputs": [
        {
          "output_type": "execute_result",
          "data": {
            "text/plain": [
              "{'Decision Tree': 0.9807563213246812,\n",
              " 'LinearSVC': 0.9947415529201163,\n",
              " 'LogisticRegression': 0.9951890803311703,\n",
              " 'Multinomial NB': 0.9565898411277691,\n",
              " 'RandomForest': 0.9898187513985232,\n",
              " 'XGB': 0.9919445066010293}"
            ]
          },
          "metadata": {
            "tags": []
          },
          "execution_count": 102
        }
      ]
    },
    {
      "cell_type": "code",
      "metadata": {
        "colab": {
          "base_uri": "https://localhost:8080/"
        },
        "id": "o-Y7IbZ0Ape_",
        "outputId": "dd6a9abe-4b36-4aa0-92c2-30696b6e7240"
      },
      "source": [
        "scores3"
      ],
      "execution_count": null,
      "outputs": [
        {
          "output_type": "execute_result",
          "data": {
            "text/plain": [
              "{'Decision Tree': 0.9804579697173118,\n",
              " 'LinearSVC': 0.9938837920489296,\n",
              " 'LogisticRegression': 0.9940329678526143,\n",
              " 'Multinomial NB': 0.9539792645632879,\n",
              " 'RandomForest': 0.9882896994107556,\n",
              " 'XGB': 0.9914969791899754}"
            ]
          },
          "metadata": {
            "tags": []
          },
          "execution_count": 104
        }
      ]
    },
    {
      "cell_type": "code",
      "metadata": {
        "colab": {
          "base_uri": "https://localhost:8080/"
        },
        "id": "sgZjXGyuERoo",
        "outputId": "60b893a1-dc6b-4bea-c1eb-c546e28fcce5"
      },
      "source": [
        "scores4"
      ],
      "execution_count": null,
      "outputs": [
        {
          "output_type": "execute_result",
          "data": {
            "text/plain": [
              "{'Decision Tree': 0.9821734914596852,\n",
              " 'LinearSVC': 0.9938837920489296,\n",
              " 'LogisticRegression': 0.9944059073618259,\n",
              " 'Multinomial NB': 0.9511449242932797,\n",
              " 'RandomForest': 0.9877675840978594,\n",
              " 'XGB': 0.9921682703065563}"
            ]
          },
          "metadata": {
            "tags": []
          },
          "execution_count": 106
        }
      ]
    },
    {
      "cell_type": "code",
      "metadata": {
        "id": "Fe1Fce_SQ1U7"
      },
      "source": [
        "scores5['XGB'] = 0.990713806220631\n",
        "scores5['RandomForest'] = 0.9882524054598344"
      ],
      "execution_count": null,
      "outputs": []
    },
    {
      "cell_type": "code",
      "metadata": {
        "colab": {
          "base_uri": "https://localhost:8080/"
        },
        "id": "4mwQ3iIuERmG",
        "outputId": "ba4d2183-7024-477a-8758-166fea6c5239"
      },
      "source": [
        "scores5"
      ],
      "execution_count": null,
      "outputs": [
        {
          "output_type": "execute_result",
          "data": {
            "text/plain": [
              "{'Decision Tree': 0.9794137390915194,\n",
              " 'LinearSVC': 0.9939024390243902,\n",
              " 'LogisticRegression': 0.9942380845826807,\n",
              " 'Multinomial NB': 0.9526180353546655,\n",
              " 'RandomForest': 0.9882524054598344,\n",
              " 'XGB': 0.990713806220631}"
            ]
          },
          "metadata": {
            "tags": []
          },
          "execution_count": 108
        }
      ]
    },
    {
      "cell_type": "markdown",
      "metadata": {
        "id": "jI9iYABVeBvW"
      },
      "source": [
        "### Before Text Cleaning VS After Text Cleaning"
      ]
    },
    {
      "cell_type": "code",
      "metadata": {
        "colab": {
          "base_uri": "https://localhost:8080/",
          "height": 204
        },
        "id": "BfzWNG9feEqP",
        "outputId": "40de58e8-1b20-4d30-c47f-e565d11dae76"
      },
      "source": [
        "df3 = pd.DataFrame()\n",
        "df3 = true2.append(fake2)\n",
        "df3['text']=df3['title']+df3['text']\n",
        "df3=df3.drop(['title'], axis=1)\n",
        "df3.head()"
      ],
      "execution_count": null,
      "outputs": [
        {
          "output_type": "execute_result",
          "data": {
            "text/html": [
              "<div>\n",
              "<style scoped>\n",
              "    .dataframe tbody tr th:only-of-type {\n",
              "        vertical-align: middle;\n",
              "    }\n",
              "\n",
              "    .dataframe tbody tr th {\n",
              "        vertical-align: top;\n",
              "    }\n",
              "\n",
              "    .dataframe thead th {\n",
              "        text-align: right;\n",
              "    }\n",
              "</style>\n",
              "<table border=\"1\" class=\"dataframe\">\n",
              "  <thead>\n",
              "    <tr style=\"text-align: right;\">\n",
              "      <th></th>\n",
              "      <th>text</th>\n",
              "      <th>subject</th>\n",
              "      <th>date</th>\n",
              "      <th>flag</th>\n",
              "    </tr>\n",
              "  </thead>\n",
              "  <tbody>\n",
              "    <tr>\n",
              "      <th>0</th>\n",
              "      <td>As U.S. budget fight looms, Republicans flip t...</td>\n",
              "      <td>politicsNews</td>\n",
              "      <td>December 31, 2017</td>\n",
              "      <td>1</td>\n",
              "    </tr>\n",
              "    <tr>\n",
              "      <th>1</th>\n",
              "      <td>U.S. military to accept transgender recruits o...</td>\n",
              "      <td>politicsNews</td>\n",
              "      <td>December 29, 2017</td>\n",
              "      <td>1</td>\n",
              "    </tr>\n",
              "    <tr>\n",
              "      <th>2</th>\n",
              "      <td>Senior U.S. Republican senator: 'Let Mr. Muell...</td>\n",
              "      <td>politicsNews</td>\n",
              "      <td>December 31, 2017</td>\n",
              "      <td>1</td>\n",
              "    </tr>\n",
              "    <tr>\n",
              "      <th>3</th>\n",
              "      <td>FBI Russia probe helped by Australian diplomat...</td>\n",
              "      <td>politicsNews</td>\n",
              "      <td>December 30, 2017</td>\n",
              "      <td>1</td>\n",
              "    </tr>\n",
              "    <tr>\n",
              "      <th>4</th>\n",
              "      <td>Trump wants Postal Service to charge 'much mor...</td>\n",
              "      <td>politicsNews</td>\n",
              "      <td>December 29, 2017</td>\n",
              "      <td>1</td>\n",
              "    </tr>\n",
              "  </tbody>\n",
              "</table>\n",
              "</div>"
            ],
            "text/plain": [
              "                                                text  ... flag\n",
              "0  As U.S. budget fight looms, Republicans flip t...  ...    1\n",
              "1  U.S. military to accept transgender recruits o...  ...    1\n",
              "2  Senior U.S. Republican senator: 'Let Mr. Muell...  ...    1\n",
              "3  FBI Russia probe helped by Australian diplomat...  ...    1\n",
              "4  Trump wants Postal Service to charge 'much mor...  ...    1\n",
              "\n",
              "[5 rows x 4 columns]"
            ]
          },
          "metadata": {
            "tags": []
          },
          "execution_count": 54
        }
      ]
    },
    {
      "cell_type": "code",
      "metadata": {
        "id": "N28eCFdd8LiJ"
      },
      "source": [
        "df3 = df3.drop_duplicates()\n",
        "df3 = df3.reset_index(drop=True)"
      ],
      "execution_count": null,
      "outputs": []
    },
    {
      "cell_type": "code",
      "metadata": {
        "id": "6YVXWbKp8NtN"
      },
      "source": [
        "tfidf = TfidfVectorizer()\n",
        "X_text_compare = tfidf.fit_transform(df3['text'])\n",
        "X_train_compare, X_test_compare, y_train_compare, y_test_compare = train_test_split(X_text_compare, df3['flag'], test_size=0.33, random_state=1)"
      ],
      "execution_count": null,
      "outputs": []
    },
    {
      "cell_type": "code",
      "metadata": {
        "id": "85dwW0eY8cSU"
      },
      "source": [
        "clf_compare = clf\n",
        "clf_compare.fit(X_train_compare, y_train_compare)\n",
        "y_pred_SVC_compare = clf_compare.predict(X_test_compare)"
      ],
      "execution_count": null,
      "outputs": []
    },
    {
      "cell_type": "code",
      "metadata": {
        "colab": {
          "base_uri": "https://localhost:8080/"
        },
        "id": "0ft5hAk_8lap",
        "outputId": "90609aa3-e47d-43dc-85fa-600b7a278a2e"
      },
      "source": [
        "for i in range (14748):\n",
        "  if y_pred_SVC[i]!=y_pred_SVC_compare[i]:\n",
        "    print (i, end =\" \")"
      ],
      "execution_count": null,
      "outputs": [
        {
          "output_type": "stream",
          "text": [
            "253 448 645 844 856 918 1242 1299 1306 1515 1631 1743 2146 2216 2510 2524 2638 2648 2665 2710 2764 2785 2859 2876 3068 4044 4220 4599 4984 5382 5649 5674 5683 6536 6544 6621 6799 6811 6967 7404 7568 7738 7843 8344 8348 8531 8757 8897 9249 9404 9585 9595 9701 9813 9886 10477 10531 10983 11461 11686 11707 11883 12260 12429 12556 12854 12927 12975 13232 13514 13839 14198 "
          ],
          "name": "stdout"
        }
      ]
    },
    {
      "cell_type": "code",
      "metadata": {
        "colab": {
          "base_uri": "https://localhost:8080/"
        },
        "id": "eSBNceiy8oBU",
        "outputId": "29de4db6-387a-441f-adb3-cbfd875fc672"
      },
      "source": [
        "print(\"Actual value: \"+str(y_test.iloc[448])+ \" （Fake News）\")\n",
        "print(\"BEFORE CLEANING* Linear SVC predicted value: \" + str(y_pred_SVC_compare[448]))\n",
        "print(\"AFTER CLEANING* Linear SVC predicted value: \" + str(y_pred_SVC[448]))"
      ],
      "execution_count": null,
      "outputs": [
        {
          "output_type": "stream",
          "text": [
            "Actual value: 0 （Fake News）\n",
            "BEFORE CLEANING* Linear SVC predicted value: 1\n",
            "AFTER CLEANING* Linear SVC predicted value: 0\n"
          ],
          "name": "stdout"
        }
      ]
    },
    {
      "cell_type": "markdown",
      "metadata": {
        "id": "dyygY1cO8ucm"
      },
      "source": [
        "### Sample Output"
      ]
    },
    {
      "cell_type": "code",
      "metadata": {
        "colab": {
          "base_uri": "https://localhost:8080/"
        },
        "id": "BC-Rk32R8qPb",
        "outputId": "3d21d727-ca78-4762-c202-4d3b1f8e4a8b"
      },
      "source": [
        "print(\"Actual value: \"+str(y_test.iloc[100])+ \" （Fake News）\")"
      ],
      "execution_count": null,
      "outputs": [
        {
          "output_type": "stream",
          "text": [
            "Actual value: 0 （Fake News）\n"
          ],
          "name": "stdout"
        }
      ]
    },
    {
      "cell_type": "code",
      "metadata": {
        "colab": {
          "base_uri": "https://localhost:8080/"
        },
        "id": "eKdi6A128-MV",
        "outputId": "6945336a-1b3f-4936-bb34-9c7327a668d3"
      },
      "source": [
        "print(\"Linear SVC predicted value: \" + str(y_pred_SVC[100]))\n",
        "print(\"Naive Bayes predicted value: \" + str(y_pred_NB[100]))\n",
        "print(\"XGBoost predicted value: \" + str(y_pred_XGB[100]))\n",
        "print(\"Random Forest predicted value: \" + str(y_pred_RF[100]))\n",
        "print(\"Logistic Regression predicted value: \" + str(y_pred_LR[100]))\n",
        "print(\"Decision Tree predicted value: \" + str(y_pred_DT[100]))"
      ],
      "execution_count": null,
      "outputs": [
        {
          "output_type": "stream",
          "text": [
            "Linear SVC predicted value: 0\n",
            "Naive Bayes predicted value: 1\n",
            "XGBoost predicted value: 0\n",
            "Random Forest predicted value: 0\n",
            "Logistic Regression predicted value: 0\n",
            "Decision Tree predicted value: 0\n"
          ],
          "name": "stdout"
        }
      ]
    },
    {
      "cell_type": "code",
      "metadata": {
        "colab": {
          "base_uri": "https://localhost:8080/"
        },
        "id": "6NC0uWAq9pUT",
        "outputId": "4d21a92c-434e-4977-dbc6-6b44ba15ac67"
      },
      "source": [
        "print(\"Actual value: \"+str(y_test.iloc[500])+ \" （True News）\")"
      ],
      "execution_count": null,
      "outputs": [
        {
          "output_type": "stream",
          "text": [
            "Actual value: 1 （True News）\n"
          ],
          "name": "stdout"
        }
      ]
    },
    {
      "cell_type": "code",
      "metadata": {
        "colab": {
          "base_uri": "https://localhost:8080/"
        },
        "id": "_m71DZBU-M0i",
        "outputId": "c094b141-2b9b-43fe-df47-10b2ad78dca6"
      },
      "source": [
        "print(\"Linear SVC predicted value: \" + str(y_pred_SVC[500]))\n",
        "print(\"Naive Bayes predicted value: \" + str(y_pred_NB[500]))\n",
        "print(\"XGBoost predicted value: \" + str(y_pred_XGB[500]))\n",
        "print(\"Random Forest predicted value: \" + str(y_pred_RF[500]))\n",
        "print(\"Logistic Regression predicted value: \" + str(y_pred_LR[500]))\n",
        "print(\"Decision Tree predicted value: \" + str(y_pred_DT[500]))"
      ],
      "execution_count": null,
      "outputs": [
        {
          "output_type": "stream",
          "text": [
            "Linear SVC predicted value: 0\n",
            "Naive Bayes predicted value: 1\n",
            "XGBoost predicted value: 1\n",
            "Random Forest predicted value: 1\n",
            "Logistic Regression predicted value: 0\n",
            "Decision Tree predicted value: 1\n"
          ],
          "name": "stdout"
        }
      ]
    }
  ]
}